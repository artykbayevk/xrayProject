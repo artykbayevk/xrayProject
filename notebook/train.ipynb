{
 "cells": [
  {
   "cell_type": "code",
   "id": "initial_id",
   "metadata": {
    "collapsed": true,
    "ExecuteTime": {
     "end_time": "2024-06-19T10:18:14.983686Z",
     "start_time": "2024-06-19T10:18:14.930018Z"
    }
   },
   "source": [
    "from mmengine.utils import get_git_hash\n",
    "from mmengine.utils.dl_utils import collect_env as collect_base_env\n",
    "\n",
    "import mmdet\n",
    "\n",
    "\n",
    "def collect_env():\n",
    "    \"\"\"Collect the information of the running environments.\"\"\"\n",
    "    env_info = collect_base_env()\n",
    "    env_info['MMDetection'] = f'{mmdet.__version__}+{get_git_hash()[:7]}'\n",
    "    return env_info\n",
    "\n",
    "\n",
    "if __name__ == '__main__':\n",
    "    for name, val in collect_env().items():\n",
    "        print(f'{name}: {val}')"
   ],
   "outputs": [
    {
     "name": "stdout",
     "output_type": "stream",
     "text": [
      "sys.platform: linux\n",
      "Python: 3.7.10 (default, Feb 26 2021, 18:47:35) [GCC 7.3.0]\n",
      "CUDA available: True\n",
      "MUSA available: False\n",
      "numpy_random_seed: 2147483648\n",
      "GPU 0: NVIDIA GeForce RTX 4090\n",
      "CUDA_HOME: /usr/local/cuda\n",
      "NVCC: Cuda compilation tools, release 11.1, V11.1.105\n",
      "GCC: gcc (Ubuntu 7.5.0-3ubuntu1~18.04) 7.5.0\n",
      "PyTorch: 1.9.0\n",
      "PyTorch compiling details: PyTorch built with:\n",
      "  - GCC 7.3\n",
      "  - C++ Version: 201402\n",
      "  - Intel(R) oneAPI Math Kernel Library Version 2021.2-Product Build 20210312 for Intel(R) 64 architecture applications\n",
      "  - Intel(R) MKL-DNN v2.1.2 (Git Hash 98be7e8afa711dc9b66c8ff3504129cb82013cdb)\n",
      "  - OpenMP 201511 (a.k.a. OpenMP 4.5)\n",
      "  - NNPACK is enabled\n",
      "  - CPU capability usage: AVX2\n",
      "  - CUDA Runtime 11.1\n",
      "  - NVCC architecture flags: -gencode;arch=compute_37,code=sm_37;-gencode;arch=compute_50,code=sm_50;-gencode;arch=compute_60,code=sm_60;-gencode;arch=compute_61,code=sm_61;-gencode;arch=compute_70,code=sm_70;-gencode;arch=compute_75,code=sm_75;-gencode;arch=compute_80,code=sm_80;-gencode;arch=compute_86,code=sm_86;-gencode;arch=compute_37,code=compute_37\n",
      "  - CuDNN 8.0.5\n",
      "  - Magma 2.5.2\n",
      "  - Build settings: BLAS_INFO=mkl, BUILD_TYPE=Release, CUDA_VERSION=11.1, CUDNN_VERSION=8.0.5, CXX_COMPILER=/opt/rh/devtoolset-7/root/usr/bin/c++, CXX_FLAGS= -Wno-deprecated -fvisibility-inlines-hidden -DUSE_PTHREADPOOL -fopenmp -DNDEBUG -DUSE_KINETO -DUSE_FBGEMM -DUSE_QNNPACK -DUSE_PYTORCH_QNNPACK -DUSE_XNNPACK -DSYMBOLICATE_MOBILE_DEBUG_HANDLE -O2 -fPIC -Wno-narrowing -Wall -Wextra -Werror=return-type -Wno-missing-field-initializers -Wno-type-limits -Wno-array-bounds -Wno-unknown-pragmas -Wno-sign-compare -Wno-unused-parameter -Wno-unused-variable -Wno-unused-function -Wno-unused-result -Wno-unused-local-typedefs -Wno-strict-overflow -Wno-strict-aliasing -Wno-error=deprecated-declarations -Wno-stringop-overflow -Wno-psabi -Wno-error=pedantic -Wno-error=redundant-decls -Wno-error=old-style-cast -fdiagnostics-color=always -faligned-new -Wno-unused-but-set-variable -Wno-maybe-uninitialized -fno-math-errno -fno-trapping-math -Werror=format -Wno-stringop-overflow, LAPACK_INFO=mkl, PERF_WITH_AVX=1, PERF_WITH_AVX2=1, PERF_WITH_AVX512=1, TORCH_VERSION=1.9.0, USE_CUDA=ON, USE_CUDNN=ON, USE_EXCEPTION_PTR=1, USE_GFLAGS=OFF, USE_GLOG=OFF, USE_MKL=ON, USE_MKLDNN=ON, USE_MPI=OFF, USE_NCCL=ON, USE_NNPACK=ON, USE_OPENMP=ON, \n",
      "\n",
      "TorchVision: 0.10.0\n",
      "OpenCV: 4.10.0\n",
      "MMEngine: 0.10.4\n",
      "MMDetection: 3.3.0+\n"
     ]
    }
   ],
   "execution_count": 2
  },
  {
   "metadata": {
    "ExecuteTime": {
     "end_time": "2024-06-19T10:18:17.559105Z",
     "start_time": "2024-06-19T10:18:17.306595Z"
    }
   },
   "cell_type": "code",
   "source": [
    "import pandas as pd\n",
    "import cv2\n",
    "import numpy as np\n",
    "import PIL.Image as Image\n",
    "import os"
   ],
   "id": "e84ed963da2d5033",
   "outputs": [],
   "execution_count": 3
  },
  {
   "metadata": {
    "ExecuteTime": {
     "end_time": "2024-06-19T10:18:18.690598Z",
     "start_time": "2024-06-19T10:18:18.686847Z"
    }
   },
   "cell_type": "code",
   "source": [
    "import os.path as osp\n",
    "import mmcv\n",
    "from mmengine.fileio import dump, load\n",
    "import pandas as pd\n",
    "\n",
    "labels = ['Atelectasis',\n",
    " 'Cardiomegaly',\n",
    " 'Effusion',\n",
    " 'Infiltrate',\n",
    " 'Mass',\n",
    " 'Nodule',\n",
    " 'Pneumonia',\n",
    " 'Pneumothorax']\n"
   ],
   "id": "982eea67789daf55",
   "outputs": [],
   "execution_count": 4
  },
  {
   "metadata": {
    "ExecuteTime": {
     "end_time": "2024-06-19T10:18:19.499711Z",
     "start_time": "2024-06-19T10:18:19.490152Z"
    }
   },
   "cell_type": "code",
   "source": [
    "categories = [{\"id\":labels.index(x), \"name\":x} for x in labels]\n",
    "categories"
   ],
   "id": "e98d370f07c127e9",
   "outputs": [
    {
     "data": {
      "text/plain": [
       "[{'id': 0, 'name': 'Atelectasis'},\n",
       " {'id': 1, 'name': 'Cardiomegaly'},\n",
       " {'id': 2, 'name': 'Effusion'},\n",
       " {'id': 3, 'name': 'Infiltrate'},\n",
       " {'id': 4, 'name': 'Mass'},\n",
       " {'id': 5, 'name': 'Nodule'},\n",
       " {'id': 6, 'name': 'Pneumonia'},\n",
       " {'id': 7, 'name': 'Pneumothorax'}]"
      ]
     },
     "execution_count": 5,
     "metadata": {},
     "output_type": "execute_result"
    }
   ],
   "execution_count": 5
  },
  {
   "metadata": {
    "ExecuteTime": {
     "end_time": "2024-06-19T10:18:22.085959Z",
     "start_time": "2024-06-19T10:18:22.080144Z"
    }
   },
   "cell_type": "code",
   "source": [
    "def xywh_to_xyxy(xywh):\n",
    "    \"\"\"\n",
    "    Convert XYWH format (x,y center point and width, height) to XYXY format (x,y top left and x,y bottom right).\n",
    "    :param xywh: [X, Y, W, H]\n",
    "    :return: [X1, Y1, X2, Y2]\n",
    "    \"\"\"\n",
    "    if np.array(xywh).ndim > 1 or len(xywh) > 4:\n",
    "        raise ValueError('xywh format: [x1, y1, width, height]')\n",
    "    x1 = xywh[0] - xywh[2] / 2\n",
    "    y1 = xywh[1] - xywh[3] / 2\n",
    "    x2 = xywh[0] + xywh[2] / 2\n",
    "    y2 = xywh[1] + xywh[3] / 2\n",
    "    return np.array([x1, y1, x2, y2])"
   ],
   "id": "c562a7d9a0501ef3",
   "outputs": [],
   "execution_count": 6
  },
  {
   "metadata": {
    "ExecuteTime": {
     "end_time": "2024-06-19T10:20:01.918394Z",
     "start_time": "2024-06-19T10:19:48.075815Z"
    }
   },
   "cell_type": "code",
   "source": [
    "def convert_xray_to_coco(ann_file, out_file, image_prefix):\n",
    "    df = pd.read_csv(ann_file)\n",
    "    \n",
    "    obj_count = 0\n",
    "    annotations = []\n",
    "    images = []\n",
    "    \n",
    "    means = []\n",
    "    stds = []\n",
    "    \n",
    "    for idx, row in df.iterrows():\n",
    "        label = row[\"Label\"]\n",
    "        filename =  row[\"Image\"]\n",
    "        img_path = osp.join(image_prefix, filename)\n",
    "        image = mmcv.imread(img_path)\n",
    "        height, width = image.shape[:2]\n",
    "        channels = cv2.split(image)\n",
    "        for channel in channels:\n",
    "            means.append(np.mean(channel))\n",
    "            stds.append(np.std(channel))\n",
    "        images.append(\n",
    "            dict(id=idx, file_name=filename, height=height, width=width))\n",
    "        x,y,w,h =row[[\"x\", \"y\", \"w\", \"h\"]]\n",
    "        \n",
    "        data_anno = dict(\n",
    "                image_id=idx,\n",
    "                id=obj_count,\n",
    "                category_id=labels.index(label),\n",
    "                bbox=[x,y,w,h],\n",
    "                area=row[\"w\"] * row[\"h\"],\n",
    "                iscrowd=0)\n",
    "        annotations.append(data_anno)\n",
    "        obj_count += 1\n",
    "    \n",
    "    means = np.array(means).reshape(-1, 3)\n",
    "    stds = np.array(stds).reshape(-1, 3)\n",
    "    \n",
    "    # Compute the overall mean and std for each channel\n",
    "    mean_per_channel = np.mean(means, axis=0)\n",
    "    std_per_channel = np.mean(stds, axis=0)\n",
    "    \n",
    "    print(mean_per_channel)\n",
    "    print(std_per_channel)\n",
    "    \n",
    "    coco_format_json = dict(\n",
    "        images=images,\n",
    "        annotations=annotations,\n",
    "        categories=categories)\n",
    "    dump(coco_format_json, out_file)\n",
    "convert_xray_to_coco(\"/data/train.csv\", \"/data/train.json\", \"/data/images\")\n",
    "convert_xray_to_coco(\"/data/test.csv\", \"/data/test.json\", \"/data/images\")"
   ],
   "id": "85da7b9919842059",
   "outputs": [
    {
     "name": "stdout",
     "output_type": "stream",
     "text": [
      "[120.47771557 120.47771557 120.47771557]\n",
      "[59.45722038 59.45722038 59.45722038]\n",
      "[123.20065048 123.20065048 123.20065048]\n",
      "[57.97565126 57.97565126 57.97565126]\n"
     ]
    }
   ],
   "execution_count": 8
  },
  {
   "metadata": {},
   "cell_type": "code",
   "outputs": [],
   "execution_count": null,
   "source": [
    "mean = [120.47771557,120.47771557,120.47771557]\n",
    "std = [59.45722038,59.45722038,59.45722038]"
   ],
   "id": "241a56a92454b048"
  },
  {
   "metadata": {},
   "cell_type": "code",
   "outputs": [],
   "execution_count": null,
   "source": [
    "mean = [123.20065048,123.20065048,123.20065048]\n",
    "std = [57.97565126,57.97565126,57.97565126]"
   ],
   "id": "e618426051f76a36"
  },
  {
   "metadata": {
    "ExecuteTime": {
     "end_time": "2024-06-19T06:31:57.327945Z",
     "start_time": "2024-06-19T06:31:57.009138Z"
    }
   },
   "cell_type": "code",
   "source": "!mkdir ./checkpoints",
   "id": "ccd265d21176121d",
   "outputs": [
    {
     "name": "stdout",
     "output_type": "stream",
     "text": [
      "mkdir: cannot create directory ‘./checkpoints’: File exists\r\n"
     ]
    }
   ],
   "execution_count": 17
  },
  {
   "metadata": {
    "ExecuteTime": {
     "end_time": "2024-06-19T06:32:02.224095Z",
     "start_time": "2024-06-19T06:31:59.056579Z"
    }
   },
   "cell_type": "code",
   "source": [
    "\n",
    "!/opt/conda/bin/mim download mmdet --config rtmdet_tiny_8xb32-300e_coco --dest ./checkpoints"
   ],
   "id": "4a9d74bf4453e149",
   "outputs": [
    {
     "name": "stdout",
     "output_type": "stream",
     "text": [
      "processing rtmdet_tiny_8xb32-300e_coco...\r\n",
      "\u001B[32mrtmdet_tiny_8xb32-300e_coco_20220902_112414-78e30dcc.pth exists in /home/user/checkpoints\u001B[0m\r\n",
      "\u001B[32mSuccessfully dumped rtmdet_tiny_8xb32-300e_coco.py to /home/user/checkpoints\u001B[0m\r\n"
     ]
    }
   ],
   "execution_count": 18
  },
  {
   "metadata": {
    "ExecuteTime": {
     "end_time": "2024-06-19T06:44:33.213505Z",
     "start_time": "2024-06-19T06:44:33.207334Z"
    }
   },
   "cell_type": "code",
   "source": [
    "config_balloon = \"\"\"\n",
    "# Inherit and overwrite part of the config based on this config\n",
    "_base_ = '/home/user/xray/checkpoints/rtmdet_tiny_8xb32-300e_coco.py'\n",
    "\n",
    "data_root = '/data/images/' # dataset root\n",
    "\n",
    "train_batch_size_per_gpu = 48\n",
    "train_num_workers = 16\n",
    "\n",
    "max_epochs = 100\n",
    "stage2_num_epochs = 1\n",
    "base_lr = 0.00008\n",
    "\n",
    "\n",
    "metainfo = {\n",
    "    'classes': ('Atelectasis',\n",
    " 'Cardiomegaly',\n",
    " 'Effusion',\n",
    " 'Infiltrate',\n",
    " 'Mass',\n",
    " 'Nodule',\n",
    " 'Pneumonia',\n",
    " 'Pneumothorax', ),\n",
    "    'palette': [\n",
    "        (220, 20, 60),\n",
    "        (200, 201, 60),\n",
    "        (184, 20, 50),\n",
    "        (140, 50, 60),\n",
    "        (23, 20, 60),\n",
    "        (55, 20, 60),\n",
    "        (77, 20, 60),\n",
    "        (10, 20, 60),\n",
    "        \n",
    "    ]\n",
    "}\n",
    "\n",
    "train_dataloader = dict(\n",
    "    batch_size=train_batch_size_per_gpu,\n",
    "    num_workers=train_num_workers,\n",
    "    dataset=dict(\n",
    "        data_root=data_root,\n",
    "        metainfo=metainfo,\n",
    "        data_prefix=dict(img=''),\n",
    "        ann_file='train.json'))\n",
    "\n",
    "val_dataloader = dict(\n",
    "    dataset=dict(\n",
    "        data_root=data_root,\n",
    "        metainfo=metainfo,\n",
    "        data_prefix=dict(img=''),\n",
    "        ann_file='test.json'))\n",
    "\n",
    "test_dataloader = val_dataloader\n",
    "\n",
    "val_evaluator = dict(ann_file=data_root + 'test.json')\n",
    "\n",
    "test_evaluator = val_evaluator\n",
    "\n",
    "model = dict(bbox_head=dict(num_classes=8))\n",
    "\n",
    "# learning rate\n",
    "param_scheduler = [\n",
    "    dict(\n",
    "        type='LinearLR',\n",
    "        start_factor=1.0e-5,\n",
    "        by_epoch=False,\n",
    "        begin=0,\n",
    "        end=10),\n",
    "    dict(\n",
    "        # use cosine lr from 10 to 20 epoch\n",
    "        type='CosineAnnealingLR',\n",
    "        eta_min=base_lr * 0.05,\n",
    "        begin=max_epochs // 2,\n",
    "        end=max_epochs,\n",
    "        T_max=max_epochs // 2,\n",
    "        by_epoch=True,\n",
    "        convert_to_iter_based=True),\n",
    "]\n",
    "\n",
    "train_pipeline_stage2 = [\n",
    "    dict(type='LoadImageFromFile', backend_args=None),\n",
    "    dict(type='LoadAnnotations', with_bbox=True),\n",
    "    dict(\n",
    "        type='RandomResize',\n",
    "        scale=(1024, 1024),\n",
    "        ratio_range=(0.1, 2.0),\n",
    "        keep_ratio=True),\n",
    "    dict(type='RandomCrop', crop_size=(1024, 1024)),\n",
    "    dict(type='YOLOXHSVRandomAug'),\n",
    "    dict(type='RandomFlip', prob=0.5),\n",
    "    dict(type='Pad', size=(1024, 1024), pad_val=dict(img=(114, 114, 114))),\n",
    "    dict(type='PackDetInputs')\n",
    "]\n",
    "\n",
    "# optimizer\n",
    "optim_wrapper = dict(\n",
    "    _delete_=True,\n",
    "    type='OptimWrapper',\n",
    "    optimizer=dict(type='AdamW', lr=base_lr, weight_decay=0.05),\n",
    "    paramwise_cfg=dict(\n",
    "        norm_decay_mult=0, bias_decay_mult=0, bypass_duplicate=True))\n",
    "\n",
    "default_hooks = dict(\n",
    "    checkpoint=dict(\n",
    "        interval=5,\n",
    "        max_keep_ckpts=2,  # only keep latest 2 checkpoints\n",
    "        save_best='auto'\n",
    "    ),\n",
    "    logger=dict(type='LoggerHook', interval=5))\n",
    "\n",
    "custom_hooks = [\n",
    "    dict(\n",
    "        type='PipelineSwitchHook',\n",
    "        switch_epoch=max_epochs - stage2_num_epochs,\n",
    "        switch_pipeline=train_pipeline_stage2)\n",
    "]\n",
    "\n",
    "# load COCO pre-trained weight\n",
    "load_from = '/home/user/xray/checkpoints/rtmdet_tiny_8xb32-300e_coco_20220902_112414-78e30dcc.pth'\n",
    "\n",
    "train_cfg = dict(type='EpochBasedTrainLoop', max_epochs=max_epochs, val_interval=1)\n",
    "visualizer = dict(vis_backends=[dict(type='LocalVisBackend'),dict(type='TensorboardVisBackend')])\n",
    "\"\"\"\n",
    "\n",
    "with open('/home/user/xray/configs/rtmdet_tiny_1xb4-20e_xray.py', 'w') as f:\n",
    "    f.write(config_balloon)"
   ],
   "id": "69db8e9d3dfde14e",
   "outputs": [],
   "execution_count": 22
  },
  {
   "metadata": {},
   "cell_type": "code",
   "outputs": [],
   "execution_count": null,
   "source": "!/opt/conda/bin/python3 /mmdetection/tools/train.py /home/user/xray/configs/rtmdet_tiny_1xb4-20e_xray.py",
   "id": "82166d55b2a75c3"
  }
 ],
 "metadata": {
  "kernelspec": {
   "display_name": "Python 3",
   "language": "python",
   "name": "python3"
  },
  "language_info": {
   "codemirror_mode": {
    "name": "ipython",
    "version": 2
   },
   "file_extension": ".py",
   "mimetype": "text/x-python",
   "name": "python",
   "nbconvert_exporter": "python",
   "pygments_lexer": "ipython2",
   "version": "2.7.6"
  }
 },
 "nbformat": 4,
 "nbformat_minor": 5
}
