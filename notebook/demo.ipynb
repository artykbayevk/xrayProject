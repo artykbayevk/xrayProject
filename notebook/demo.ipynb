{
 "cells": [
  {
   "cell_type": "code",
   "id": "initial_id",
   "metadata": {
    "collapsed": true
   },
   "source": [
    "!mkdir ./checkpoints\n",
    "!/opt/conda/bin/mim download mmdet --config rtmdet_tiny_8xb32-300e_coco --dest ./checkpoints"
   ],
   "outputs": [],
   "execution_count": null
  },
  {
   "metadata": {},
   "cell_type": "code",
   "source": [
    "# Show the output image\n",
    "from PIL import Image\n",
    "Image.open('./output/vis/demo.jpg')"
   ],
   "id": "a383a4403cb0bcd4",
   "outputs": [],
   "execution_count": null
  },
  {
   "metadata": {},
   "cell_type": "code",
   "source": [
    "from mmdet.apis import DetInferencer\n",
    "\n",
    "# Choose to use a config\n",
    "model_name = 'rtmdet_tiny_8xb32-300e_coco'\n",
    "# Setup a checkpoint file to load\n",
    "checkpoint = './checkpoints/rtmdet_tiny_8xb32-300e_coco_20220902_112414-78e30dcc.pth'\n",
    "\n",
    "# Set the device to be used for evaluation\n",
    "device = 'cuda:0'\n",
    "\n",
    "# Initialize the DetInferencer\n",
    "inferencer = DetInferencer(model_name, checkpoint, device)\n",
    "\n",
    "# Use the detector to do inference\n",
    "img = '/mmdetection/demo/demo.jpg'\n",
    "result = inferencer(img, out_dir='./output')"
   ],
   "id": "48670720a4a53dfc",
   "outputs": [],
   "execution_count": null
  }
 ],
 "metadata": {
  "kernelspec": {
   "display_name": "Python 3",
   "language": "python",
   "name": "python3"
  },
  "language_info": {
   "codemirror_mode": {
    "name": "ipython",
    "version": 2
   },
   "file_extension": ".py",
   "mimetype": "text/x-python",
   "name": "python",
   "nbconvert_exporter": "python",
   "pygments_lexer": "ipython2",
   "version": "2.7.6"
  }
 },
 "nbformat": 4,
 "nbformat_minor": 5
}
