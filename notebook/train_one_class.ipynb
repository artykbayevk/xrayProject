{
 "cells": [
  {
   "cell_type": "code",
   "id": "initial_id",
   "metadata": {
    "collapsed": true,
    "ExecuteTime": {
     "end_time": "2024-06-19T08:03:12.317795Z",
     "start_time": "2024-06-19T08:03:10.958028Z"
    }
   },
   "source": [
    "from mmengine.utils import get_git_hash\n",
    "from mmengine.utils.dl_utils import collect_env as collect_base_env\n",
    "\n",
    "import mmdet\n",
    "\n",
    "\n",
    "def collect_env():\n",
    "    \"\"\"Collect the information of the running environments.\"\"\"\n",
    "    env_info = collect_base_env()\n",
    "    env_info['MMDetection'] = f'{mmdet.__version__}+{get_git_hash()[:7]}'\n",
    "    return env_info\n",
    "\n",
    "\n",
    "if __name__ == '__main__':\n",
    "    for name, val in collect_env().items():\n",
    "        print(f'{name}: {val}')"
   ],
   "outputs": [
    {
     "name": "stdout",
     "output_type": "stream",
     "text": [
      "sys.platform: linux\n",
      "Python: 3.7.10 (default, Feb 26 2021, 18:47:35) [GCC 7.3.0]\n",
      "CUDA available: True\n",
      "MUSA available: False\n",
      "numpy_random_seed: 2147483648\n",
      "GPU 0: NVIDIA GeForce RTX 4090\n",
      "CUDA_HOME: /usr/local/cuda\n",
      "NVCC: Cuda compilation tools, release 11.1, V11.1.105\n",
      "GCC: gcc (Ubuntu 7.5.0-3ubuntu1~18.04) 7.5.0\n",
      "PyTorch: 1.9.0\n",
      "PyTorch compiling details: PyTorch built with:\n",
      "  - GCC 7.3\n",
      "  - C++ Version: 201402\n",
      "  - Intel(R) oneAPI Math Kernel Library Version 2021.2-Product Build 20210312 for Intel(R) 64 architecture applications\n",
      "  - Intel(R) MKL-DNN v2.1.2 (Git Hash 98be7e8afa711dc9b66c8ff3504129cb82013cdb)\n",
      "  - OpenMP 201511 (a.k.a. OpenMP 4.5)\n",
      "  - NNPACK is enabled\n",
      "  - CPU capability usage: AVX2\n",
      "  - CUDA Runtime 11.1\n",
      "  - NVCC architecture flags: -gencode;arch=compute_37,code=sm_37;-gencode;arch=compute_50,code=sm_50;-gencode;arch=compute_60,code=sm_60;-gencode;arch=compute_61,code=sm_61;-gencode;arch=compute_70,code=sm_70;-gencode;arch=compute_75,code=sm_75;-gencode;arch=compute_80,code=sm_80;-gencode;arch=compute_86,code=sm_86;-gencode;arch=compute_37,code=compute_37\n",
      "  - CuDNN 8.0.5\n",
      "  - Magma 2.5.2\n",
      "  - Build settings: BLAS_INFO=mkl, BUILD_TYPE=Release, CUDA_VERSION=11.1, CUDNN_VERSION=8.0.5, CXX_COMPILER=/opt/rh/devtoolset-7/root/usr/bin/c++, CXX_FLAGS= -Wno-deprecated -fvisibility-inlines-hidden -DUSE_PTHREADPOOL -fopenmp -DNDEBUG -DUSE_KINETO -DUSE_FBGEMM -DUSE_QNNPACK -DUSE_PYTORCH_QNNPACK -DUSE_XNNPACK -DSYMBOLICATE_MOBILE_DEBUG_HANDLE -O2 -fPIC -Wno-narrowing -Wall -Wextra -Werror=return-type -Wno-missing-field-initializers -Wno-type-limits -Wno-array-bounds -Wno-unknown-pragmas -Wno-sign-compare -Wno-unused-parameter -Wno-unused-variable -Wno-unused-function -Wno-unused-result -Wno-unused-local-typedefs -Wno-strict-overflow -Wno-strict-aliasing -Wno-error=deprecated-declarations -Wno-stringop-overflow -Wno-psabi -Wno-error=pedantic -Wno-error=redundant-decls -Wno-error=old-style-cast -fdiagnostics-color=always -faligned-new -Wno-unused-but-set-variable -Wno-maybe-uninitialized -fno-math-errno -fno-trapping-math -Werror=format -Wno-stringop-overflow, LAPACK_INFO=mkl, PERF_WITH_AVX=1, PERF_WITH_AVX2=1, PERF_WITH_AVX512=1, TORCH_VERSION=1.9.0, USE_CUDA=ON, USE_CUDNN=ON, USE_EXCEPTION_PTR=1, USE_GFLAGS=OFF, USE_GLOG=OFF, USE_MKL=ON, USE_MKLDNN=ON, USE_MPI=OFF, USE_NCCL=ON, USE_NNPACK=ON, USE_OPENMP=ON, \n",
      "\n",
      "TorchVision: 0.10.0\n",
      "OpenCV: 4.10.0\n",
      "MMEngine: 0.10.4\n",
      "MMDetection: 3.3.0+\n"
     ]
    }
   ],
   "execution_count": 1
  },
  {
   "metadata": {
    "ExecuteTime": {
     "end_time": "2024-06-19T08:10:37.603878Z",
     "start_time": "2024-06-19T08:10:37.600324Z"
    }
   },
   "cell_type": "code",
   "source": [
    "import pandas as pd\n",
    "import cv2\n",
    "import numpy as np\n",
    "import PIL.Image as Image\n",
    "import os"
   ],
   "id": "e84ed963da2d5033",
   "outputs": [],
   "execution_count": 10
  },
  {
   "metadata": {
    "ExecuteTime": {
     "end_time": "2024-06-19T08:10:38.360832Z",
     "start_time": "2024-06-19T08:10:38.357869Z"
    }
   },
   "cell_type": "code",
   "source": [
    "import os.path as osp\n",
    "import mmcv\n",
    "from mmengine.fileio import dump, load\n",
    "import pandas as pd\n",
    "\n",
    "labels = [\"Disease\"]\n"
   ],
   "id": "982eea67789daf55",
   "outputs": [],
   "execution_count": 11
  },
  {
   "metadata": {
    "ExecuteTime": {
     "end_time": "2024-06-19T08:10:38.897358Z",
     "start_time": "2024-06-19T08:10:38.892318Z"
    }
   },
   "cell_type": "code",
   "source": [
    "categories = [{\"id\":labels.index(x), \"name\":x} for x in labels]\n",
    "categories"
   ],
   "id": "e98d370f07c127e9",
   "outputs": [
    {
     "data": {
      "text/plain": [
       "[{'id': 0, 'name': 'Disease'}]"
      ]
     },
     "execution_count": 12,
     "metadata": {},
     "output_type": "execute_result"
    }
   ],
   "execution_count": 12
  },
  {
   "metadata": {
    "ExecuteTime": {
     "end_time": "2024-06-19T08:10:39.934864Z",
     "start_time": "2024-06-19T08:10:39.929494Z"
    }
   },
   "cell_type": "code",
   "source": [
    "def xywh_to_xyxy(xywh):\n",
    "    \"\"\"\n",
    "    Convert XYWH format (x,y center point and width, height) to XYXY format (x,y top left and x,y bottom right).\n",
    "    :param xywh: [X, Y, W, H]\n",
    "    :return: [X1, Y1, X2, Y2]\n",
    "    \"\"\"\n",
    "    if np.array(xywh).ndim > 1 or len(xywh) > 4:\n",
    "        raise ValueError('xywh format: [x1, y1, width, height]')\n",
    "    x1 = xywh[0] - xywh[2] / 2\n",
    "    y1 = xywh[1] - xywh[3] / 2\n",
    "    x2 = xywh[0] + xywh[2] / 2\n",
    "    y2 = xywh[1] + xywh[3] / 2\n",
    "    return np.array([x1, y1, x2, y2])"
   ],
   "id": "c562a7d9a0501ef3",
   "outputs": [],
   "execution_count": 13
  },
  {
   "metadata": {
    "ExecuteTime": {
     "end_time": "2024-06-19T08:17:46.278989Z",
     "start_time": "2024-06-19T08:17:30.787602Z"
    }
   },
   "cell_type": "code",
   "source": [
    "def convert_xray_to_coco(ann_file, out_file, image_prefix):\n",
    "    df = pd.read_csv(ann_file)\n",
    "    \n",
    "    obj_count = 0\n",
    "    annotations = []\n",
    "    images = []\n",
    "    \n",
    "    means = []\n",
    "    stds = []\n",
    "    \n",
    "    for idx, row in df.iterrows():\n",
    "        label = row[\"Label\"]\n",
    "        filename =  row[\"Image\"]\n",
    "        img_path = osp.join(image_prefix, filename)\n",
    "        image = mmcv.imread(img_path)\n",
    "        height, width = image.shape[:2]\n",
    "        channels = cv2.split(image)\n",
    "        for channel in channels:\n",
    "            means.append(np.mean(channel))\n",
    "            stds.append(np.std(channel))\n",
    "        images.append(\n",
    "            dict(id=idx, file_name=filename, height=height, width=width))\n",
    "        x_min,y_min,x_max,y_max = xywh_to_xyxy(row[[\"x\", \"y\", \"w\", \"h\"]])\n",
    "        \n",
    "        data_anno = dict(\n",
    "                image_id=idx,\n",
    "                id=obj_count,\n",
    "                category_id=0,\n",
    "                bbox=[x_min, y_min, row[\"w\"],row[\"h\"]],\n",
    "                area=row[\"w\"] * row[\"h\"],\n",
    "                iscrowd=0)\n",
    "        annotations.append(data_anno)\n",
    "        obj_count += 1\n",
    "    \n",
    "    means = np.array(means).reshape(-1, 3)\n",
    "    stds = np.array(stds).reshape(-1, 3)\n",
    "    \n",
    "    # Compute the overall mean and std for each channel\n",
    "    mean_per_channel = np.mean(means, axis=0)\n",
    "    std_per_channel = np.mean(stds, axis=0)\n",
    "    \n",
    "    print(mean_per_channel)\n",
    "    print(std_per_channel)\n",
    "    \n",
    "    coco_format_json = dict(\n",
    "        images=images,\n",
    "        annotations=annotations,\n",
    "        categories=categories)\n",
    "    dump(coco_format_json, out_file)\n",
    "convert_xray_to_coco(\"/data/train.csv\", \"/data/train_one_class.json\", \"/data/images\")\n",
    "convert_xray_to_coco(\"/data/test.csv\", \"/data/test_one_class.json\", \"/data/images\")"
   ],
   "id": "85da7b9919842059",
   "outputs": [
    {
     "name": "stdout",
     "output_type": "stream",
     "text": [
      "[120.47771557 120.47771557 120.47771557]\n",
      "[59.45722038 59.45722038 59.45722038]\n",
      "[123.20065048 123.20065048 123.20065048]\n",
      "[57.97565126 57.97565126 57.97565126]\n"
     ]
    }
   ],
   "execution_count": 16
  }
 ],
 "metadata": {
  "kernelspec": {
   "display_name": "Python 3",
   "language": "python",
   "name": "python3"
  },
  "language_info": {
   "codemirror_mode": {
    "name": "ipython",
    "version": 2
   },
   "file_extension": ".py",
   "mimetype": "text/x-python",
   "name": "python",
   "nbconvert_exporter": "python",
   "pygments_lexer": "ipython2",
   "version": "2.7.6"
  }
 },
 "nbformat": 4,
 "nbformat_minor": 5
}
