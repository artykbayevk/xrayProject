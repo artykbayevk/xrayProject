{
 "cells": [
  {
   "metadata": {
    "ExecuteTime": {
     "end_time": "2024-06-18T08:39:30.678307Z",
     "start_time": "2024-06-18T08:39:30.675785Z"
    }
   },
   "cell_type": "code",
   "source": [
    "import pandas as pd\n",
    "from sklearn.model_selection import StratifiedShuffleSplit"
   ],
   "id": "b0d61483a5733c3b",
   "outputs": [],
   "execution_count": 21
  },
  {
   "metadata": {
    "ExecuteTime": {
     "end_time": "2024-06-18T08:39:31.197592Z",
     "start_time": "2024-06-18T08:39:31.193537Z"
    }
   },
   "cell_type": "code",
   "source": "df = pd.read_csv(\"/data/BBox_List_2017.csv\")",
   "id": "90216848948977dd",
   "outputs": [],
   "execution_count": 22
  },
  {
   "metadata": {
    "ExecuteTime": {
     "end_time": "2024-06-18T08:39:31.818130Z",
     "start_time": "2024-06-18T08:39:31.806405Z"
    }
   },
   "cell_type": "code",
   "source": "df.info()",
   "id": "6aef975615e6375d",
   "outputs": [
    {
     "name": "stdout",
     "output_type": "stream",
     "text": [
      "<class 'pandas.core.frame.DataFrame'>\n",
      "RangeIndex: 984 entries, 0 to 983\n",
      "Data columns (total 6 columns):\n",
      " #   Column  Non-Null Count  Dtype  \n",
      "---  ------  --------------  -----  \n",
      " 0   Image   984 non-null    object \n",
      " 1   Label   984 non-null    object \n",
      " 2   x       984 non-null    float64\n",
      " 3   y       984 non-null    float64\n",
      " 4   w       984 non-null    float64\n",
      " 5   h       984 non-null    float64\n",
      "dtypes: float64(4), object(2)\n",
      "memory usage: 46.2+ KB\n"
     ]
    }
   ],
   "execution_count": 23
  },
  {
   "metadata": {
    "ExecuteTime": {
     "end_time": "2024-06-18T08:39:32.629893Z",
     "start_time": "2024-06-18T08:39:32.624533Z"
    }
   },
   "cell_type": "code",
   "source": [
    "def function(data):\n",
    "    X = data.drop([\"Label\"], axis=1).values\n",
    "    y = data[\"Label\"].values\n",
    "    \n",
    "    ss = StratifiedShuffleSplit(n_splits=1, test_size=0.15, random_state=0)\n",
    "    ss.get_n_splits(X, y)\n",
    "    for i, (train_index, test_index) in enumerate(ss.split(X, y)):\n",
    "        X_train, X_test = X[train_index], X[test_index]\n",
    "        y_train, y_test = y[train_index], y[test_index]\n",
    "    \n",
    "    x_cols = df.drop([\"Label\"], axis=1).columns.to_list()\n",
    "    y_cols = df[[\"Label\"]].columns.to_list()\n",
    "    \n",
    "    train = pd.DataFrame(data=X_train, columns=x_cols)\n",
    "    test = pd.DataFrame(data=X_test, columns=x_cols)\n",
    "    \n",
    "    train[y_cols[0]] = y_train\n",
    "    test[y_cols[0]] = y_test\n",
    "    \n",
    "    return train,test"
   ],
   "id": "f2460859cccfdcb1",
   "outputs": [],
   "execution_count": 24
  },
  {
   "metadata": {
    "ExecuteTime": {
     "end_time": "2024-06-18T08:39:36.139238Z",
     "start_time": "2024-06-18T08:39:36.130652Z"
    }
   },
   "cell_type": "code",
   "source": "train,test = function(df)",
   "id": "2e9c38685b17654f",
   "outputs": [],
   "execution_count": 26
  },
  {
   "metadata": {
    "ExecuteTime": {
     "end_time": "2024-06-18T08:39:37.851793Z",
     "start_time": "2024-06-18T08:39:37.840822Z"
    }
   },
   "cell_type": "code",
   "source": [
    "train.to_csv(\"/data/train.csv\", index=False)\n",
    "test.to_csv(\"/data/test.csv\", index=False)"
   ],
   "id": "dab9cbd924a4b85d",
   "outputs": [],
   "execution_count": 27
  },
  {
   "metadata": {
    "ExecuteTime": {
     "end_time": "2024-06-18T08:39:39.213817Z",
     "start_time": "2024-06-18T08:39:39.209720Z"
    }
   },
   "cell_type": "code",
   "source": "set(train.Label.to_list())",
   "id": "ab4ef4931e52084d",
   "outputs": [
    {
     "data": {
      "text/plain": [
       "{'Atelectasis',\n",
       " 'Cardiomegaly',\n",
       " 'Effusion',\n",
       " 'Infiltrate',\n",
       " 'Mass',\n",
       " 'Nodule',\n",
       " 'Pneumonia',\n",
       " 'Pneumothorax'}"
      ]
     },
     "execution_count": 28,
     "metadata": {},
     "output_type": "execute_result"
    }
   ],
   "execution_count": 28
  }
 ],
 "metadata": {
  "kernelspec": {
   "display_name": "Python 3",
   "language": "python",
   "name": "python3"
  },
  "language_info": {
   "codemirror_mode": {
    "name": "ipython",
    "version": 2
   },
   "file_extension": ".py",
   "mimetype": "text/x-python",
   "name": "python",
   "nbconvert_exporter": "python",
   "pygments_lexer": "ipython2",
   "version": "2.7.6"
  }
 },
 "nbformat": 4,
 "nbformat_minor": 5
}
