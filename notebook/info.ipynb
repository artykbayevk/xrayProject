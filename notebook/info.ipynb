{
 "cells": [
  {
   "metadata": {
    "ExecuteTime": {
     "end_time": "2024-06-21T05:18:24.396148Z",
     "start_time": "2024-06-21T05:18:23.909817Z"
    }
   },
   "cell_type": "code",
   "source": [
    "import pandas as pd\n",
    "from sklearn.model_selection import StratifiedShuffleSplit"
   ],
   "id": "b0d61483a5733c3b",
   "outputs": [],
   "execution_count": 1
  },
  {
   "metadata": {},
   "cell_type": "code",
   "outputs": [],
   "execution_count": null,
   "source": "",
   "id": "fc43baa45f5fa58f"
  },
  {
   "metadata": {},
   "cell_type": "code",
   "outputs": [],
   "execution_count": null,
   "source": "",
   "id": "841c73b236eeb2f"
  },
  {
   "metadata": {
    "ExecuteTime": {
     "end_time": "2024-06-21T05:15:18.600165Z",
     "start_time": "2024-06-21T05:15:01.894282Z"
    }
   },
   "cell_type": "code",
   "source": "!/opt/conda/bin/pip install scikit-learn",
   "id": "ed264528721c4d87",
   "outputs": [
    {
     "name": "stdout",
     "output_type": "stream",
     "text": [
      "/bin/bash: warning: setlocale: LC_ALL: cannot change locale (en_US.UTF-8)\r\n",
      "Defaulting to user installation because normal site-packages is not writeable\r\n",
      "Collecting scikit-learn\r\n",
      "  Downloading scikit_learn-1.0.2-cp37-cp37m-manylinux_2_17_x86_64.manylinux2014_x86_64.whl.metadata (10 kB)\r\n",
      "Requirement already satisfied: numpy>=1.14.6 in /opt/conda/lib/python3.7/site-packages (from scikit-learn) (1.20.2)\r\n",
      "Requirement already satisfied: scipy>=1.1.0 in /opt/conda/lib/python3.7/site-packages (from scikit-learn) (1.7.3)\r\n",
      "Collecting joblib>=0.11 (from scikit-learn)\r\n",
      "  Downloading joblib-1.3.2-py3-none-any.whl.metadata (5.4 kB)\r\n",
      "Collecting threadpoolctl>=2.0.0 (from scikit-learn)\r\n",
      "  Downloading threadpoolctl-3.1.0-py3-none-any.whl.metadata (9.2 kB)\r\n",
      "Downloading scikit_learn-1.0.2-cp37-cp37m-manylinux_2_17_x86_64.manylinux2014_x86_64.whl (24.8 MB)\r\n",
      "\u001B[2K   \u001B[90m━━━━━━━━━━━━━━━━━━━━━━━━━━━━━━━━━━━━━━━━\u001B[0m \u001B[32m24.8/24.8 MB\u001B[0m \u001B[31m3.3 MB/s\u001B[0m eta \u001B[36m0:00:00\u001B[0m00:01\u001B[0m00:01\u001B[0mm\r\n",
      "\u001B[?25hDownloading joblib-1.3.2-py3-none-any.whl (302 kB)\r\n",
      "\u001B[2K   \u001B[90m━━━━━━━━━━━━━━━━━━━━━━━━━━━━━━━━━━━━━━━━\u001B[0m \u001B[32m302.2/302.2 kB\u001B[0m \u001B[31m3.6 MB/s\u001B[0m eta \u001B[36m0:00:00\u001B[0ma \u001B[36m0:00:01\u001B[0m\r\n",
      "\u001B[?25hDownloading threadpoolctl-3.1.0-py3-none-any.whl (14 kB)\r\n",
      "Installing collected packages: threadpoolctl, joblib, scikit-learn\r\n",
      "Successfully installed joblib-1.3.2 scikit-learn-1.0.2 threadpoolctl-3.1.0\r\n"
     ]
    }
   ],
   "execution_count": 2
  },
  {
   "metadata": {
    "ExecuteTime": {
     "end_time": "2024-06-21T05:19:09.087273Z",
     "start_time": "2024-06-21T05:19:08.774141Z"
    }
   },
   "cell_type": "code",
   "source": "!pwd",
   "id": "18a06a47cc9d5c51",
   "outputs": [
    {
     "name": "stdout",
     "output_type": "stream",
     "text": [
      "/bin/bash: warning: setlocale: LC_ALL: cannot change locale (en_US.UTF-8)\r\n",
      "/tmp/pycharm_project_774\r\n"
     ]
    }
   ],
   "execution_count": 4
  },
  {
   "metadata": {
    "ExecuteTime": {
     "end_time": "2024-06-21T05:44:48.362084Z",
     "start_time": "2024-06-21T05:44:48.358102Z"
    }
   },
   "cell_type": "code",
   "source": "df = pd.read_csv(\"/data/BBox_List_2017.csv\")",
   "id": "90216848948977dd",
   "outputs": [],
   "execution_count": 22
  },
  {
   "metadata": {
    "ExecuteTime": {
     "end_time": "2024-06-21T05:44:48.973165Z",
     "start_time": "2024-06-21T05:44:48.969041Z"
    }
   },
   "cell_type": "code",
   "source": "df.shape",
   "id": "9329e5e23aa91d7",
   "outputs": [
    {
     "data": {
      "text/plain": [
       "(984, 6)"
      ]
     },
     "execution_count": 23,
     "metadata": {},
     "output_type": "execute_result"
    }
   ],
   "execution_count": 23
  },
  {
   "metadata": {
    "ExecuteTime": {
     "end_time": "2024-06-21T05:44:49.746912Z",
     "start_time": "2024-06-21T05:44:49.740270Z"
    }
   },
   "cell_type": "code",
   "source": "df.Image.unique().shape",
   "id": "65c3c55225e9fa31",
   "outputs": [
    {
     "data": {
      "text/plain": [
       "(880,)"
      ]
     },
     "execution_count": 24,
     "metadata": {},
     "output_type": "execute_result"
    }
   ],
   "execution_count": 24
  },
  {
   "metadata": {
    "ExecuteTime": {
     "end_time": "2024-06-21T05:44:50.728112Z",
     "start_time": "2024-06-21T05:44:50.716864Z"
    }
   },
   "cell_type": "code",
   "source": "df.info()",
   "id": "6aef975615e6375d",
   "outputs": [
    {
     "name": "stdout",
     "output_type": "stream",
     "text": [
      "<class 'pandas.core.frame.DataFrame'>\n",
      "RangeIndex: 984 entries, 0 to 983\n",
      "Data columns (total 6 columns):\n",
      " #   Column  Non-Null Count  Dtype  \n",
      "---  ------  --------------  -----  \n",
      " 0   Image   984 non-null    object \n",
      " 1   Label   984 non-null    object \n",
      " 2   x       984 non-null    float64\n",
      " 3   y       984 non-null    float64\n",
      " 4   w       984 non-null    float64\n",
      " 5   h       984 non-null    float64\n",
      "dtypes: float64(4), object(2)\n",
      "memory usage: 46.2+ KB\n"
     ]
    }
   ],
   "execution_count": 25
  },
  {
   "metadata": {
    "ExecuteTime": {
     "end_time": "2024-06-21T05:44:51.728511Z",
     "start_time": "2024-06-21T05:44:51.721160Z"
    }
   },
   "cell_type": "code",
   "source": [
    "def function(data):\n",
    "    X = data.drop([\"Label\"], axis=1).values\n",
    "    y = data[\"Label\"].values\n",
    "    \n",
    "    ss = StratifiedShuffleSplit(n_splits=1, test_size=0.3, random_state=0)\n",
    "    ss.get_n_splits(X, y)\n",
    "    for i, (train_index, test_index) in enumerate(ss.split(X, y)):\n",
    "        X_train, X_test = X[train_index], X[test_index]\n",
    "        y_train, y_test = y[train_index], y[test_index]\n",
    "    \n",
    "    x_cols = df.drop([\"Label\"], axis=1).columns.to_list()\n",
    "    y_cols = df[[\"Label\"]].columns.to_list()\n",
    "    \n",
    "    train = pd.DataFrame(data=X_train, columns=x_cols)\n",
    "    test = pd.DataFrame(data=X_test, columns=x_cols)\n",
    "    \n",
    "    train[y_cols[0]] = y_train\n",
    "    test[y_cols[0]] = y_test\n",
    "    \n",
    "    return train,test"
   ],
   "id": "f2460859cccfdcb1",
   "outputs": [],
   "execution_count": 26
  },
  {
   "metadata": {
    "ExecuteTime": {
     "end_time": "2024-06-21T05:44:52.265080Z",
     "start_time": "2024-06-21T05:44:52.255844Z"
    }
   },
   "cell_type": "code",
   "source": "train,test = function(df)",
   "id": "2e9c38685b17654f",
   "outputs": [],
   "execution_count": 27
  },
  {
   "metadata": {
    "ExecuteTime": {
     "end_time": "2024-06-21T05:44:52.732091Z",
     "start_time": "2024-06-21T05:44:52.727340Z"
    }
   },
   "cell_type": "code",
   "source": "train.shape",
   "id": "fe6c6dfc53414cfc",
   "outputs": [
    {
     "data": {
      "text/plain": [
       "(688, 6)"
      ]
     },
     "execution_count": 28,
     "metadata": {},
     "output_type": "execute_result"
    }
   ],
   "execution_count": 28
  },
  {
   "metadata": {
    "ExecuteTime": {
     "end_time": "2024-06-21T05:44:53.379805Z",
     "start_time": "2024-06-21T05:44:53.376166Z"
    }
   },
   "cell_type": "code",
   "source": "test.shape",
   "id": "2fea2b9e59d5df21",
   "outputs": [
    {
     "data": {
      "text/plain": [
       "(296, 6)"
      ]
     },
     "execution_count": 29,
     "metadata": {},
     "output_type": "execute_result"
    }
   ],
   "execution_count": 29
  },
  {
   "metadata": {
    "ExecuteTime": {
     "end_time": "2024-06-21T05:44:54.534987Z",
     "start_time": "2024-06-21T05:44:54.520926Z"
    }
   },
   "cell_type": "code",
   "source": [
    "train.to_csv(\"/data/yolo_dataset/train.csv\", index=False)\n",
    "test.to_csv(\"/data/yolo_dataset/test.csv\", index=False)"
   ],
   "id": "dab9cbd924a4b85d",
   "outputs": [],
   "execution_count": 30
  },
  {
   "metadata": {
    "ExecuteTime": {
     "end_time": "2024-06-21T05:54:31.695165Z",
     "start_time": "2024-06-21T05:54:31.454052Z"
    }
   },
   "cell_type": "code",
   "source": [
    "import pandas as pd\n",
    "import numpy as np\n",
    "from sklearn.model_selection import train_test_split\n",
    "\n",
    "# Read the CSV file\n",
    "df = pd.read_csv('/data/BBox_List_2017.csv')\n",
    "\n",
    "# Group by Image to handle multiple labels per image\n",
    "grouped = df.groupby('Image')\n",
    "\n",
    "# Create lists to store the train and test data\n",
    "train_data = []\n",
    "test_data = []\n",
    "\n",
    "# Iterate through each group (image)\n",
    "for _, group in grouped:\n",
    "    # Get unique labels for this image\n",
    "    labels = group['Label'].unique()\n",
    "    \n",
    "    # Create a string of sorted labels to use for stratification\n",
    "    label_str = '_'.join(sorted(labels))\n",
    "    \n",
    "    if len(group) == 1:\n",
    "        # If there's only one sample, randomly assign it to train or test\n",
    "        if np.random.random() < 0.7:\n",
    "            train_data.append(group)\n",
    "        else:\n",
    "            test_data.append(group)\n",
    "    else:\n",
    "        # Split the group if it has more than one sample\n",
    "        group_train, group_test = train_test_split(\n",
    "            group, \n",
    "            test_size=0.30, \n",
    "            random_state=42, \n",
    "            stratify=[label_str] * len(group)\n",
    "        )\n",
    "        \n",
    "        train_data.append(group_train)\n",
    "        test_data.append(group_test)\n",
    "\n",
    "# Concatenate all the train and test data\n",
    "train_df = pd.concat(train_data)\n",
    "test_df = pd.concat(test_data)\n",
    "\n",
    "# Verify the split\n",
    "print(f\"Train set size: {len(train_df)}\")\n",
    "print(f\"Test set size: {len(test_df)}\")\n",
    "\n",
    "# Check the distribution of labels in train and test sets\n",
    "labels = ['Atelectasis', 'Cardiomegaly', 'Effusion', 'Infiltrate', 'Mass', 'Nodule', 'Pneumonia', 'Pneumothorax']\n",
    "for label in labels:\n",
    "    train_count = train_df[train_df['Label'] == label].shape[0]\n",
    "    test_count = test_df[test_df['Label'] == label].shape[0]\n",
    "    print(f\"{label}:\")\n",
    "    print(f\"  Train: {train_count} ({train_count / len(train_df):.2%})\")\n",
    "    print(f\"  Test: {test_count} ({test_count / len(test_df):.2%})\")\n",
    "\n",
    "# Save the train and test sets to new CSV files\n",
    "train_df.to_csv('/data/yolo_dataset/train_set.csv', index=False)\n",
    "test_df.to_csv('/data/yolo_dataset/test_set.csv', index=False)"
   ],
   "id": "a676b98f34cf170b",
   "outputs": [
    {
     "name": "stdout",
     "output_type": "stream",
     "text": [
      "Train set size: 661\n",
      "Test set size: 323\n",
      "Atelectasis:\n",
      "  Train: 106 (16.04%)\n",
      "  Test: 74 (22.91%)\n",
      "Cardiomegaly:\n",
      "  Train: 94 (14.22%)\n",
      "  Test: 52 (16.10%)\n",
      "Effusion:\n",
      "  Train: 93 (14.07%)\n",
      "  Test: 60 (18.58%)\n",
      "Infiltrate:\n",
      "  Train: 88 (13.31%)\n",
      "  Test: 35 (10.84%)\n",
      "Mass:\n",
      "  Train: 64 (9.68%)\n",
      "  Test: 21 (6.50%)\n",
      "Nodule:\n",
      "  Train: 55 (8.32%)\n",
      "  Test: 24 (7.43%)\n",
      "Pneumonia:\n",
      "  Train: 92 (13.92%)\n",
      "  Test: 28 (8.67%)\n",
      "Pneumothorax:\n",
      "  Train: 69 (10.44%)\n",
      "  Test: 29 (8.98%)\n"
     ]
    }
   ],
   "execution_count": 33
  }
 ],
 "metadata": {
  "kernelspec": {
   "display_name": "Python 3",
   "language": "python",
   "name": "python3"
  },
  "language_info": {
   "codemirror_mode": {
    "name": "ipython",
    "version": 2
   },
   "file_extension": ".py",
   "mimetype": "text/x-python",
   "name": "python",
   "nbconvert_exporter": "python",
   "pygments_lexer": "ipython2",
   "version": "2.7.6"
  }
 },
 "nbformat": 4,
 "nbformat_minor": 5
}
