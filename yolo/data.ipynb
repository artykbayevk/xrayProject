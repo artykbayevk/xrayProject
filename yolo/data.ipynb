{
 "cells": [
  {
   "cell_type": "code",
   "id": "initial_id",
   "metadata": {
    "collapsed": true,
    "ExecuteTime": {
     "end_time": "2024-06-21T05:40:12.645248Z",
     "start_time": "2024-06-21T05:40:12.185651Z"
    }
   },
   "source": [
    "import pandas as pd\n",
    "from sklearn.model_selection import StratifiedShuffleSplit\n",
    "import cv2\n",
    "import numpy as np"
   ],
   "outputs": [],
   "execution_count": 1
  },
  {
   "metadata": {
    "ExecuteTime": {
     "end_time": "2024-06-21T06:02:25.675191Z",
     "start_time": "2024-06-21T06:02:25.670894Z"
    }
   },
   "cell_type": "code",
   "source": "df = pd.read_csv(\"/data/BBox_List_2017.csv\")",
   "id": "71973f884fbbb0b5",
   "outputs": [],
   "execution_count": 2
  },
  {
   "metadata": {
    "ExecuteTime": {
     "end_time": "2024-06-21T06:06:32.777323Z",
     "start_time": "2024-06-21T06:06:32.709940Z"
    }
   },
   "cell_type": "code",
   "source": [
    "more_than_one = {}\n",
    "\n",
    "for idx, item in df.iterrows():\n",
    "    if item.Image in more_than_one:\n",
    "        more_than_one[item.Image]+=1\n",
    "    else:\n",
    "        more_than_one[item.Image] = 1\n"
   ],
   "id": "9fe75806bf508178",
   "outputs": [],
   "execution_count": 16
  },
  {
   "metadata": {
    "ExecuteTime": {
     "end_time": "2024-06-21T06:06:58.540351Z",
     "start_time": "2024-06-21T06:06:58.536590Z"
    }
   },
   "cell_type": "code",
   "source": "items = [x for x in more_than_one if more_than_one[x]>1]",
   "id": "e80a7d271b5c105a",
   "outputs": [],
   "execution_count": 18
  },
  {
   "metadata": {
    "ExecuteTime": {
     "end_time": "2024-06-21T06:07:04.866260Z",
     "start_time": "2024-06-21T06:07:04.861670Z"
    }
   },
   "cell_type": "code",
   "source": "len(items)",
   "id": "43da47909a8c11e8",
   "outputs": [
    {
     "data": {
      "text/plain": [
       "93"
      ]
     },
     "execution_count": 21,
     "metadata": {},
     "output_type": "execute_result"
    }
   ],
   "execution_count": 21
  },
  {
   "metadata": {
    "ExecuteTime": {
     "end_time": "2024-06-21T06:09:17.301868Z",
     "start_time": "2024-06-21T06:09:17.206953Z"
    }
   },
   "cell_type": "code",
   "source": [
    "new_data = []\n",
    "excluded_data=  []\n",
    "for idx, item in df.iterrows():\n",
    "    if item.Image in items:\n",
    "        excluded_data.append([item.Image, item.Label, item.x, item.y, item.w, item.h])\n",
    "    else:\n",
    "        new_data.append([item.Image, item.Label, item.x, item.y, item.w, item.h])"
   ],
   "id": "b345018ff0afaa4a",
   "outputs": [],
   "execution_count": 22
  },
  {
   "metadata": {
    "ExecuteTime": {
     "end_time": "2024-06-21T06:09:27.274527Z",
     "start_time": "2024-06-21T06:09:27.270979Z"
    }
   },
   "cell_type": "code",
   "source": "len(excluded_data)",
   "id": "640d5c659f318924",
   "outputs": [
    {
     "data": {
      "text/plain": [
       "197"
      ]
     },
     "execution_count": 23,
     "metadata": {},
     "output_type": "execute_result"
    }
   ],
   "execution_count": 23
  },
  {
   "metadata": {
    "ExecuteTime": {
     "end_time": "2024-06-21T06:09:30.842879Z",
     "start_time": "2024-06-21T06:09:30.838478Z"
    }
   },
   "cell_type": "code",
   "source": "len(new_data)",
   "id": "fc533f6b0848e2f8",
   "outputs": [
    {
     "data": {
      "text/plain": [
       "787"
      ]
     },
     "execution_count": 24,
     "metadata": {},
     "output_type": "execute_result"
    }
   ],
   "execution_count": 24
  },
  {
   "metadata": {
    "ExecuteTime": {
     "end_time": "2024-06-21T06:10:11.953503Z",
     "start_time": "2024-06-21T06:10:11.947161Z"
    }
   },
   "cell_type": "code",
   "source": [
    "unique = pd.DataFrame(data=new_data, columns=['Image', 'Label', 'x', 'y', 'w', 'h'])\n",
    "excluded = pd.DataFrame(data=excluded_data, columns=['Image', 'Label', 'x', 'y', 'w', 'h'])"
   ],
   "id": "93f6b01922493f1",
   "outputs": [],
   "execution_count": 25
  },
  {
   "metadata": {
    "ExecuteTime": {
     "end_time": "2024-06-21T06:10:46.108181Z",
     "start_time": "2024-06-21T06:10:46.102191Z"
    }
   },
   "cell_type": "code",
   "source": "unique.Label.value_counts()",
   "id": "adfed95bb98da03d",
   "outputs": [
    {
     "data": {
      "text/plain": [
       "Atelectasis     149\n",
       "Cardiomegaly    135\n",
       "Effusion        102\n",
       "Pneumonia        97\n",
       "Pneumothorax     86\n",
       "Infiltrate       79\n",
       "Nodule           76\n",
       "Mass             63\n",
       "Name: Label, dtype: int64"
      ]
     },
     "execution_count": 29,
     "metadata": {},
     "output_type": "execute_result"
    }
   ],
   "execution_count": 29
  },
  {
   "metadata": {
    "ExecuteTime": {
     "end_time": "2024-06-21T06:15:46.241008Z",
     "start_time": "2024-06-21T06:15:46.231891Z"
    }
   },
   "cell_type": "code",
   "source": [
    "def function(data):\n",
    "    X = data.drop([\"Label\"], axis=1).values\n",
    "    y = data[\"Label\"].values\n",
    "    \n",
    "    ss = StratifiedShuffleSplit(n_splits=1, test_size=0.3, random_state=0)\n",
    "    ss.get_n_splits(X, y)\n",
    "    for i, (train_index, test_index) in enumerate(ss.split(X, y)):\n",
    "        X_train, X_test = X[train_index], X[test_index]\n",
    "        y_train, y_test = y[train_index], y[test_index]\n",
    "    \n",
    "    x_cols = df.drop([\"Label\"], axis=1).columns.to_list()\n",
    "    y_cols = df[[\"Label\"]].columns.to_list()\n",
    "    \n",
    "    train = pd.DataFrame(data=X_train, columns=x_cols)\n",
    "    test = pd.DataFrame(data=X_test, columns=x_cols)\n",
    "    \n",
    "    train[y_cols[0]] = y_train\n",
    "    test[y_cols[0]] = y_test\n",
    "    \n",
    "    return train,test"
   ],
   "id": "db888aaf1190b5d2",
   "outputs": [],
   "execution_count": 33
  },
  {
   "metadata": {
    "ExecuteTime": {
     "end_time": "2024-06-21T06:18:55.955548Z",
     "start_time": "2024-06-21T06:18:55.946734Z"
    }
   },
   "cell_type": "code",
   "source": "train,test = function(unique)",
   "id": "23f1db72c5f8320",
   "outputs": [],
   "execution_count": 38
  },
  {
   "metadata": {
    "ExecuteTime": {
     "end_time": "2024-06-21T06:18:57.121066Z",
     "start_time": "2024-06-21T06:18:57.116441Z"
    }
   },
   "cell_type": "code",
   "source": "train.shape, test.shape",
   "id": "dcbddd7b8cd28959",
   "outputs": [
    {
     "data": {
      "text/plain": [
       "((550, 6), (237, 6))"
      ]
     },
     "execution_count": 39,
     "metadata": {},
     "output_type": "execute_result"
    }
   ],
   "execution_count": 39
  },
  {
   "metadata": {
    "ExecuteTime": {
     "end_time": "2024-06-21T06:18:58.289840Z",
     "start_time": "2024-06-21T06:18:58.283741Z"
    }
   },
   "cell_type": "code",
   "source": "train.Label.value_counts()",
   "id": "83641fdc6c08268d",
   "outputs": [
    {
     "data": {
      "text/plain": [
       "Atelectasis     104\n",
       "Cardiomegaly     95\n",
       "Effusion         71\n",
       "Pneumonia        68\n",
       "Pneumothorax     60\n",
       "Infiltrate       55\n",
       "Nodule           53\n",
       "Mass             44\n",
       "Name: Label, dtype: int64"
      ]
     },
     "execution_count": 40,
     "metadata": {},
     "output_type": "execute_result"
    }
   ],
   "execution_count": 40
  },
  {
   "metadata": {
    "ExecuteTime": {
     "end_time": "2024-06-21T06:19:01.112450Z",
     "start_time": "2024-06-21T06:19:01.108680Z"
    }
   },
   "cell_type": "code",
   "source": "test.Label.value_counts()",
   "id": "d8184594b45e0954",
   "outputs": [
    {
     "data": {
      "text/plain": [
       "Atelectasis     45\n",
       "Cardiomegaly    40\n",
       "Effusion        31\n",
       "Pneumonia       29\n",
       "Pneumothorax    26\n",
       "Infiltrate      24\n",
       "Nodule          23\n",
       "Mass            19\n",
       "Name: Label, dtype: int64"
      ]
     },
     "execution_count": 41,
     "metadata": {},
     "output_type": "execute_result"
    }
   ],
   "execution_count": 41
  },
  {
   "metadata": {
    "ExecuteTime": {
     "end_time": "2024-06-21T06:19:03.499617Z",
     "start_time": "2024-06-21T06:19:03.487848Z"
    }
   },
   "cell_type": "code",
   "source": [
    "train.to_csv(\"/data/yolo_dataset/train_unique.csv\", index=False)\n",
    "test.to_csv(\"/data/yolo_dataset/test_unique.csv\", index=False)"
   ],
   "id": "915be5b581c0166c",
   "outputs": [],
   "execution_count": 42
  },
  {
   "metadata": {
    "ExecuteTime": {
     "end_time": "2024-06-21T06:19:46.750892Z",
     "start_time": "2024-06-21T06:19:46.746313Z"
    }
   },
   "cell_type": "code",
   "source": "excluded.shape",
   "id": "41662077487c0ac0",
   "outputs": [
    {
     "data": {
      "text/plain": [
       "(197, 6)"
      ]
     },
     "execution_count": 44,
     "metadata": {},
     "output_type": "execute_result"
    }
   ],
   "execution_count": 44
  },
  {
   "metadata": {
    "ExecuteTime": {
     "end_time": "2024-06-21T06:20:08.237489Z",
     "start_time": "2024-06-21T06:20:08.230194Z"
    }
   },
   "cell_type": "code",
   "source": "excluded.Image.value_counts()",
   "id": "81db03f21af871ed",
   "outputs": [
    {
     "data": {
      "text/plain": [
       "00010277_000.png    4\n",
       "00018427_004.png    3\n",
       "00008814_010.png    3\n",
       "00005066_030.png    3\n",
       "00010828_039.png    3\n",
       "                   ..\n",
       "00011402_007.png    2\n",
       "00012261_001.png    2\n",
       "00000732_005.png    2\n",
       "00021009_001.png    2\n",
       "00005869_001.png    2\n",
       "Name: Image, Length: 93, dtype: int64"
      ]
     },
     "execution_count": 47,
     "metadata": {},
     "output_type": "execute_result"
    }
   ],
   "execution_count": 47
  },
  {
   "metadata": {
    "ExecuteTime": {
     "end_time": "2024-06-21T06:35:38.057715Z",
     "start_time": "2024-06-21T06:35:38.055487Z"
    }
   },
   "cell_type": "code",
   "source": [
    "from sklearn.model_selection import train_test_split\n",
    "import os\n",
    "import shutil"
   ],
   "id": "a57865f68f1805a6",
   "outputs": [],
   "execution_count": 78
  },
  {
   "metadata": {
    "ExecuteTime": {
     "end_time": "2024-06-21T06:33:03.063513Z",
     "start_time": "2024-06-21T06:33:03.058963Z"
    }
   },
   "cell_type": "code",
   "source": "train, test = train_test_split(excluded.Image.unique(), test_size=0.2)",
   "id": "b8c8207354a5e92",
   "outputs": [],
   "execution_count": 71
  },
  {
   "metadata": {
    "ExecuteTime": {
     "end_time": "2024-06-21T06:36:33.739069Z",
     "start_time": "2024-06-21T06:36:33.733908Z"
    }
   },
   "cell_type": "code",
   "source": [
    "labels = ['Atelectasis', 'Cardiomegaly', 'Effusion', 'Infiltrate', 'Mass', 'Nodule', 'Pneumonia', 'Pneumothorax']\n",
    "def convert_to_yolo(image_width, image_height, top_left_x, top_left_y, width, height):\n",
    "    x_center = top_left_x + width / 2.0\n",
    "    y_center = top_left_y + height / 2.0\n",
    "\n",
    "    x_center /= image_width\n",
    "    y_center /= image_height\n",
    "    width /= image_width\n",
    "    height /= image_height\n",
    "\n",
    "    return x_center, y_center, width, height"
   ],
   "id": "845db8cb89fb37f6",
   "outputs": [],
   "execution_count": 79
  },
  {
   "metadata": {
    "ExecuteTime": {
     "end_time": "2024-06-21T06:41:29.715186Z",
     "start_time": "2024-06-21T06:41:28.786679Z"
    }
   },
   "cell_type": "code",
   "source": [
    "def process(data, main_df, base_folder,output_folder, image_folder):\n",
    "    idx = 0\n",
    "    for item in data:\n",
    "        filtered_samples = main_df[main_df['Image'] == item]\n",
    "        src_image_path = os.path.join(image_folder, item)\n",
    "        dst_image_path = os.path.join(base_folder,output_folder,\"images\",item)\n",
    "        dst_label_path = os.path.join(base_folder,output_folder, \"labels\", item.replace(\".png\", \".txt\"))\n",
    "        print(idx,src_image_path, dst_image_path, dst_label_path)\n",
    "        idx+=1\n",
    "        shutil.copy(src_image_path, dst_image_path)\n",
    "        write_data = \"\"\n",
    "        \n",
    "        image = cv2.imread(src_image_path)\n",
    "        img_h, img_w, _ = image.shape\n",
    "        for idx,row in filtered_samples.iterrows():\n",
    "            label = labels.index(row.Label)\n",
    "            top_left_x = row.x\n",
    "            top_left_y = row.y\n",
    "            width = row.w\n",
    "            height = row.h\n",
    "            \n",
    "            xc, yc, w, h = convert_to_yolo(image_width=img_w, image_height=img_h, top_left_x=top_left_x,\n",
    "                                       top_left_y=top_left_y, width=width, height=height)\n",
    "            write_data+=f\"{label} {xc} {yc} {w} {h}\\n\"\n",
    "        \n",
    "        with open(dst_label_path, \"w\") as f:\n",
    "            f.write(write_data)\n",
    "        print(write_data.strip())\n",
    "            \n",
    "process(train, excluded, base_folder=\"/data/yolo_dataset\", output_folder=\"train\", image_folder=\"/data/images\")\n",
    "print('----------------------------------------------------------------------------------------')\n",
    "process(test, excluded, base_folder=\"/data/yolo_dataset\", output_folder=\"val\", image_folder=\"/data/images\")"
   ],
   "id": "c827a09e726d515e",
   "outputs": [
    {
     "name": "stdout",
     "output_type": "stream",
     "text": [
      "0 /data/images/00000732_005.png /data/yolo_dataset/train/images/00000732_005.png /data/yolo_dataset/train/labels/00000732_005.txt\n",
      "1 0.6191737288135596 0.6215572033898306 0.40254237288135547 0.3368644067796611\n",
      "7 0.6838888888888887 0.1586481560601133 0.16888888888888867 0.10111111111111133\n",
      "183 /data/images/00017582_003.png /data/yolo_dataset/train/images/00017582_003.png /data/yolo_dataset/train/labels/00017582_003.txt\n",
      "0 0.348148148148148 0.46349206349206395 0.1947089947089951 0.13968253968254005\n",
      "2 0.16084656084656054 0.48571428571428565 0.1121693121693125 0.30264550264550294\n",
      "73 /data/images/00012376_010.png /data/yolo_dataset/train/images/00012376_010.png /data/yolo_dataset/train/labels/00012376_010.txt\n",
      "3 0.3394444444444443 0.5086481560601133 0.22222222222222265 0.25\n",
      "4 0.785 0.41253704494900145 0.12222222222222266 0.413333333333333\n",
      "7 0.42444444444444485 0.1675370449490015 0.11666666666666699 0.054444444444444434\n",
      "182 /data/images/00018253_054.png /data/yolo_dataset/train/images/00018253_054.png /data/yolo_dataset/train/labels/00018253_054.txt\n",
      "2 0.29841269841269774 0.5492063492063496 0.24126984126984083 0.49312169312169335\n",
      "3 0.3513227513227515 0.5476190476190478 0.1947089947089951 0.18518518518518554\n",
      "118 /data/images/00028640_008.png /data/yolo_dataset/train/images/00028640_008.png /data/yolo_dataset/train/labels/00028640_008.txt\n",
      "2 0.8111111111111113 0.6613756613756616 0.13015873015873047 0.26031746031745995\n",
      "3 0.33968253968253953 0.5079365079365082 0.1925925925925928 0.20740740740740723\n",
      "115 /data/images/00012834_008.png /data/yolo_dataset/train/images/00012834_008.png /data/yolo_dataset/train/labels/00012834_008.txt\n",
      "0 0.20582010582010596 0.43862433862433897 0.19365079365079393 0.07089947089947089\n",
      "2 0.13915343915343936 0.5571428571428569 0.26772486772486814 0.4116402116402119\n",
      "78 /data/images/00011237_094.png /data/yolo_dataset/train/images/00011237_094.png /data/yolo_dataset/train/labels/00011237_094.txt\n",
      "2 0.2042328042328042 0.47301587301587256 0.15661375661375684 0.49735449735449705\n",
      "3 0.6486772486772485 0.42539682539682566 0.1502645502645498 0.3047619047619053\n",
      "117 /data/images/00005066_030.png /data/yolo_dataset/train/images/00005066_030.png /data/yolo_dataset/train/labels/00005066_030.txt\n",
      "1 0.5344279661016949 0.5956391318369717 0.5275423728813564 0.29449152542372853\n",
      "2 0.15944444444444467 0.7436481560601129 0.0266666666666667 0.06444444444444443\n",
      "3 0.6377777777777779 0.5680926005045576 0.236666666666667 0.16\n",
      "86 /data/images/00025787_027.png /data/yolo_dataset/train/images/00025787_027.png /data/yolo_dataset/train/labels/00025787_027.txt\n",
      "2 0.7746031746031747 0.45714285714285724 0.3682539682539688 0.7195767195767198\n",
      "3 0.3216931216931221 0.5037037037037041 0.21587301587301563 0.4402116402116406\n",
      "123 /data/images/00011827_003.png /data/yolo_dataset/train/images/00011827_003.png /data/yolo_dataset/train/labels/00011827_003.txt\n",
      "0 0.7052910052910054 0.5206349206349205 0.2994708994708994 0.1206349206349209\n",
      "2 0.797354497354497 0.43015873015872996 0.12592592592592577 0.5703703703703701\n",
      "75 /data/images/00026196_001.png /data/yolo_dataset/train/images/00026196_001.png /data/yolo_dataset/train/labels/00026196_001.txt\n",
      "4 0.42444444444444424 0.5186481560601124 0.08111111111111113 0.07888888888888887\n",
      "6 0.3766666666666665 0.6497592671712236 0.136666666666667 0.15888888888888866\n",
      "159 /data/images/00027441_002.png /data/yolo_dataset/train/images/00027441_002.png /data/yolo_dataset/train/labels/00027441_002.txt\n",
      "2 0.2248677248677251 0.4068783068783066 0.21269841269841308 0.5492063492063496\n",
      "3 0.29470899470899514 0.4740740740740737 0.18095238095238086 0.28148148148148144\n",
      "124 /data/images/00030636_004.png /data/yolo_dataset/train/images/00030636_004.png /data/yolo_dataset/train/labels/00030636_004.txt\n",
      "3 0.7077777777777774 0.5142037116156679 0.21888888888888866 0.13\n",
      "0 0.6748333401150172 0.5040740797254775 0.15444444444444433 0.14777777777777734\n",
      "190 /data/images/00029464_015.png /data/yolo_dataset/train/images/00029464_015.png /data/yolo_dataset/train/labels/00029464_015.txt\n",
      "2 0.7961111111111109 0.6219814893934463 0.18666666666666698 0.05\n",
      "0 0.49483334011501756 0.502407413058811 0.6011111111111114 0.31555555555555564\n",
      "194 /data/images/00014738_000.png /data/yolo_dataset/train/images/00014738_000.png /data/yolo_dataset/train/labels/00014738_000.txt\n",
      "2 0.3084656084656089 0.40052910052910057 0.24444444444444433 0.5661375661375664\n",
      "3 0.3555555555555552 0.3888888888888892 0.24338624338624315 0.3714285714285713\n",
      "125 /data/images/00012021_081.png /data/yolo_dataset/train/images/00012021_081.png /data/yolo_dataset/train/labels/00012021_081.txt\n",
      "3 0.7344444444444443 0.5292037116156685 0.18777777777777735 0.193333333333333\n",
      "6 0.7388888888888887 0.4064259338378906 0.18777777777777735 0.44111111111111134\n",
      "153 /data/images/00013659_019.png /data/yolo_dataset/train/images/00013659_019.png /data/yolo_dataset/train/labels/00013659_019.txt\n",
      "4 0.5961111111111114 0.23031482272677978 0.1 0.133333333333333\n",
      "6 0.6211111111111114 0.5869814893934463 0.16777777777777733 0.2688888888888887\n",
      "7 0.33722222222222215 0.10698148939344619 0.10444444444444434 0.04888888888888887\n",
      "175 /data/images/00011402_007.png /data/yolo_dataset/train/images/00011402_007.png /data/yolo_dataset/train/labels/00011402_007.txt\n",
      "1 0.44067796610169435 0.6374470338983051 0.48199152542372853 0.33474576271186424\n",
      "6 0.573333333333333 0.6758703782823354 0.26111111111111135 0.19555555555555568\n",
      "172 /data/images/00020259_002.png /data/yolo_dataset/train/images/00020259_002.png /data/yolo_dataset/train/labels/00020259_002.txt\n",
      "3 0.7188888888888891 0.6197592671712242 0.243333333333333 0.19444444444444434\n",
      "6 0.7094444444444443 0.6425370449490014 0.21777777777777735 0.193333333333333\n",
      "152 /data/images/00029579_005.png /data/yolo_dataset/train/images/00029579_005.png /data/yolo_dataset/train/labels/00029579_005.txt\n",
      "2 0.11500000000000034 0.5436481560601131 0.0266666666666667 0.06222222222222227\n",
      "4 0.6311111111111111 0.21975926717122363 0.07222222222222217 0.07\n",
      "127 /data/images/00013391_005.png /data/yolo_dataset/train/images/00013391_005.png /data/yolo_dataset/train/labels/00013391_005.txt\n",
      "3 0.2366666666666668 0.512537044949002 0.29666666666666697 0.31111111111111134\n",
      "6 0.24944444444444433 0.4847592671712241 0.3 0.3555555555555557\n",
      "166 /data/images/00020393_003.png /data/yolo_dataset/train/images/00020393_003.png /data/yolo_dataset/train/labels/00020393_003.txt\n",
      "0 0.7735449735449736 0.5761904761904764 0.21587301587301563 0.09417989417989414\n",
      "2 0.7899470899470903 0.5809523809523809 0.24656084656084667 0.1798941798941797\n",
      "79 /data/images/00010828_039.png /data/yolo_dataset/train/images/00010828_039.png /data/yolo_dataset/train/labels/00010828_039.txt\n",
      "2 0.8027777777777778 0.5530926005045576 0.233333333333333 0.23222222222222266\n",
      "3 0.7727777777777778 0.560870378282335 0.24444444444444433 0.24111111111111133\n",
      "0 0.6787222290039062 0.569203711615669 0.20888888888888868 0.22222222222222265\n",
      "188 /data/images/00020000_000.png /data/yolo_dataset/train/images/00020000_000.png /data/yolo_dataset/train/labels/00020000_000.txt\n",
      "2 0.6388888888888892 0.7114259338378905 0.21666666666666698 0.28222222222222265\n",
      "7 0.307222222222222 0.14309260050455683 0.0866666666666667 0.027777777777777735\n",
      "176 /data/images/00016837_002.png /data/yolo_dataset/train/images/00016837_002.png /data/yolo_dataset/train/labels/00016837_002.txt\n",
      "2 0.263333333333334 0.7186481560601132 0.2522222222222227 0.06111111111111113\n",
      "0 0.2703888956705728 0.6896296352810329 0.26555555555555566 0.09222222222222226\n",
      "195 /data/images/00013249_033.png /data/yolo_dataset/train/images/00013249_033.png /data/yolo_dataset/train/labels/00013249_033.txt\n",
      "1 0.633333333333333 0.5619047619047621 0.45608465608465626 0.33650793650793653\n",
      "6 0.42539682539682516 0.5449735449735449 0.1417989417989414 0.27301587301587305\n",
      "174 /data/images/00008841_025.png /data/yolo_dataset/train/images/00008841_025.png /data/yolo_dataset/train/labels/00008841_025.txt\n",
      "2 0.2811111111111113 0.5242037116156679 0.25888888888888867 0.09888888888888867\n",
      "7 0.6644444444444444 0.12142593383789058 0.18777777777777735 0.08444444444444443\n",
      "181 /data/images/00014447_004.png /data/yolo_dataset/train/images/00014447_004.png /data/yolo_dataset/train/labels/00014447_004.txt\n",
      "0 0.28730158730158695 0.458730158730159 0.15978835978835937 0.09417989417989414\n",
      "2 0.197354497354497 0.5502645502645502 0.09206349206349208 0.2624338624338623\n",
      "77 /data/images/00029502_006.png /data/yolo_dataset/train/images/00029502_006.png /data/yolo_dataset/train/labels/00029502_006.txt\n",
      "0 0.3386243386243384 0.6629629629629634 0.2455026455026455 0.17460317460317482\n",
      "2 0.27037037037037015 0.6343915343915342 0.2507936507936504 0.38412698412698437\n",
      "80 /data/images/00012261_001.png /data/yolo_dataset/train/images/00012261_001.png /data/yolo_dataset/train/labels/00012261_001.txt\n",
      "1 0.703389830508474 0.6284427966101699 0.5201271186440674 0.40995762711864453\n",
      "6 0.7316666666666666 0.6058703782823349 0.23555555555555566 0.21111111111111133\n",
      "171 /data/images/00013670_151.png /data/yolo_dataset/train/images/00013670_151.png /data/yolo_dataset/train/labels/00013670_151.txt\n",
      "1 0.6530720338983047 0.6316560809895146 0.4512711864406777 0.3262711864406777\n",
      "3 0.5877777777777778 0.49475926717122365 0.663333333333333 0.4688888888888887\n",
      "103 /data/images/00010277_000.png /data/yolo_dataset/train/images/00010277_000.png /data/yolo_dataset/train/labels/00010277_000.txt\n",
      "2 0.8783333333333329 0.7319814893934463 0.07111111111111114 0.11\n",
      "3 0.7511111111111108 0.5153148227267798 0.26555555555555566 0.21666666666666698\n",
      "4 0.5544444444444443 0.43920371161566896 0.5277777777777773 0.2711111111111113\n",
      "6 0.756666666666667 0.522537044949002 0.25888888888888867 0.21777777777777735\n",
      "156 /data/images/00029431_000.png /data/yolo_dataset/train/images/00029431_000.png /data/yolo_dataset/train/labels/00029431_000.txt\n",
      "3 0.306666666666667 0.6119814893934463 0.21888888888888866 0.4611111111111113\n",
      "6 0.2916666666666665 0.6308703782823349 0.21333333333333301 0.4011111111111113\n",
      "162 /data/images/00001836_082.png /data/yolo_dataset/train/images/00001836_082.png /data/yolo_dataset/train/labels/00001836_082.txt\n",
      "0 0.2460317460317461 0.6100529100529101 0.15978835978835937 0.10687830687830664\n",
      "4 0.39735449735449757 0.4359788359788359 0.13650793650793652 0.1121693121693125\n",
      "140 /data/images/00013993_083.png /data/yolo_dataset/train/images/00013993_083.png /data/yolo_dataset/train/labels/00013993_083.txt\n",
      "2 0.2587301587301587 0.5529100529100532 0.24867724867724902 0.6804232804232803\n",
      "3 0.7052910052910053 0.5042328042328041 0.24656084656084667 0.31851851851851853\n",
      "126 /data/images/00025252_053.png /data/yolo_dataset/train/images/00025252_053.png /data/yolo_dataset/train/labels/00025252_053.txt\n",
      "2 0.1783333333333332 0.7042037116156684 0.3288888888888887 0.15666666666666698\n",
      "7 0.7061111111111114 0.7530926005045572 0.14222222222222267 0.256666666666667\n",
      "180 /data/images/00011925_072.png /data/yolo_dataset/train/images/00011925_072.png /data/yolo_dataset/train/labels/00011925_072.txt\n",
      "3 0.35722222222222266 0.5725370449490015 0.18222222222222265 0.3555555555555557\n",
      "4 0.4472222222222217 0.44587037828233544 0.15777777777777735 0.39555555555555566\n",
      "134 /data/images/00020405_041.png /data/yolo_dataset/train/images/00020405_041.png /data/yolo_dataset/train/labels/00020405_041.txt\n",
      "2 0.20529100529100536 0.46455026455026416 0.1947089947089951 0.37037037037037013\n",
      "3 0.702645502645503 0.5820105820105825 0.2539682539682539 0.3767195767195772\n",
      "116 /data/images/00010120_010.png /data/yolo_dataset/train/images/00010120_010.png /data/yolo_dataset/train/labels/00010120_010.txt\n",
      "3 0.5555555555555557 0.5569814893934463 0.67 0.39111111111111135\n",
      "6 0.5394444444444448 0.614203711615668 0.6755555555555557 0.44777777777777733\n",
      "164 /data/images/00008814_010.png /data/yolo_dataset/train/images/00008814_010.png /data/yolo_dataset/train/labels/00008814_010.txt\n",
      "2 0.5155555555555557 0.45420371161566847 0.65 0.10333333333333301\n",
      "3 0.515 0.4258703782823355 0.6288888888888887 0.08444444444444443\n",
      "0 0.5176111178927953 0.42975926717122426 0.653333333333333 0.0633333333333333\n",
      "187 /data/images/00018253_059.png /data/yolo_dataset/train/images/00018253_059.png /data/yolo_dataset/train/labels/00018253_059.txt\n",
      "2 0.2738888888888886 0.5180926005045576 0.19777777777777733 0.2888888888888887\n",
      "3 0.2772222222222217 0.5347592671712246 0.19777777777777733 0.30222222222222267\n",
      "0 0.28038889567057323 0.5364814758300781 0.19888888888888867 0.2811111111111113\n",
      "189 /data/images/00021840_016.png /data/yolo_dataset/train/images/00021840_016.png /data/yolo_dataset/train/labels/00021840_016.txt\n",
      "2 0.2572222222222222 0.5714259338378911 0.23555555555555566 0.09555555555555556\n",
      "3 0.288333333333334 0.5219814893934458 0.26222222222222263 0.18333333333333302\n",
      "102 /data/images/00026221_001.png /data/yolo_dataset/train/images/00026221_001.png /data/yolo_dataset/train/labels/00026221_001.txt\n",
      "5 0.2449735449735454 0.7677248677248683 0.10052910052910058 0.11322751322751368\n",
      "7 0.29047619047619044 0.3941798941798945 0.3121693121693125 0.49417989417989455\n",
      "184 /data/images/00027556_007.png /data/yolo_dataset/train/images/00027556_007.png /data/yolo_dataset/train/labels/00027556_007.txt\n",
      "0 0.2359788359788364 0.6867724867724874 0.13544973544973535 0.1121693121693125\n",
      "4 0.15185185185185196 0.30687830687830714 0.16613756613756642 0.23068783068783105\n",
      "143 /data/images/00005869_001.png /data/yolo_dataset/train/images/00005869_001.png /data/yolo_dataset/train/labels/00005869_001.txt\n",
      "6 0.25888888888888917 0.42253704494900146 0.17444444444444435 0.273333333333333\n",
      "7 0.2961111111111113 0.10420371161566835 0.24 0.07888888888888887\n",
      "179 /data/images/00030162_029.png /data/yolo_dataset/train/images/00030162_029.png /data/yolo_dataset/train/labels/00030162_029.txt\n",
      "5 0.35291005291005306 0.4084656084656085 0.0666666666666667 0.07195767195767197\n",
      "7 0.7068783068783066 0.2417989417989419 0.19894179894179884 0.15555555555555567\n",
      "186 /data/images/00015300_000.png /data/yolo_dataset/train/images/00015300_000.png /data/yolo_dataset/train/labels/00015300_000.txt\n",
      "0 0.23915343915343945 0.4582010582010586 0.14391534391534375 0.14391534391534375\n",
      "4 0.24814814814814828 0.49047619047619057 0.07513227513227509 0.05185185185185186\n",
      "145 /data/images/00011366_002.png /data/yolo_dataset/train/images/00011366_002.png /data/yolo_dataset/train/labels/00011366_002.txt\n",
      "3 0.6138888888888887 0.689203711615668 0.6488888888888886 0.6177777777777773\n",
      "6 0.6133333333333331 0.7047592671712242 0.6988888888888887 0.586666666666667\n",
      "161 /data/images/00003440_000.png /data/yolo_dataset/train/images/00003440_000.png /data/yolo_dataset/train/labels/00003440_000.txt\n",
      "0 0.27301587301587354 0.2878306878306882 0.1206349206349209 0.07830687830687832\n",
      "4 0.6338624338624346 0.5021164021164023 0.1121693121693125 0.11111111111111133\n",
      "142 /data/images/00030408_013.png /data/yolo_dataset/train/images/00030408_013.png /data/yolo_dataset/train/labels/00030408_013.txt\n",
      "2 0.7597883597883599 0.660846560846561 0.11640211640211622 0.14074074074074122\n",
      "3 0.24814814814814845 0.779365079365079 0.21481481481481446 0.14708994708994727\n",
      "113 /data/images/00016705_006.png /data/yolo_dataset/train/images/00016705_006.png /data/yolo_dataset/train/labels/00016705_006.txt\n",
      "3 0.7216666666666667 0.41753704494900196 0.0933333333333333 0.23222222222222266\n",
      "6 0.7250000000000001 0.4253148227267793 0.08888888888888886 0.23\n",
      "169 /data/images/00028285_014.png /data/yolo_dataset/train/images/00028285_014.png /data/yolo_dataset/train/labels/00028285_014.txt\n",
      "3 0.7361111111111114 0.5630926005045576 0.22888888888888867 0.35222222222222266\n",
      "6 0.7477777777777779 0.6086481560601128 0.20555555555555566 0.32555555555555565\n",
      "170 /data/images/00000830_000.png /data/yolo_dataset/train/images/00000830_000.png /data/yolo_dataset/train/labels/00000830_000.txt\n",
      "0 0.6989417989417988 0.5349206349206348 0.2740740740740742 0.11322751322751368\n",
      "4 0.34973544973545 0.44814814814814796 0.09417989417989414 0.11746031746031738\n",
      "146 /data/images/00013508_001.png /data/yolo_dataset/train/images/00013508_001.png /data/yolo_dataset/train/labels/00013508_001.txt\n",
      "0 0.403174603174603 0.6232804232804229 0.17354497354497364 0.08888888888888886\n",
      "4 0.32328042328042306 0.5502645502645498 0.08783068783068788 0.09100529100529102\n",
      "139 /data/images/00018366_029.png /data/yolo_dataset/train/images/00018366_029.png /data/yolo_dataset/train/labels/00018366_029.txt\n",
      "2 0.6700000000000005 0.4925370449490015 0.24555555555555567 0.06444444444444443\n",
      "7 0.6805555555555557 0.2214259338378906 0.19777777777777733 0.19111111111111131\n",
      "178 /data/images/00022215_012.png /data/yolo_dataset/train/images/00022215_012.png /data/yolo_dataset/train/labels/00022215_012.txt\n",
      "1 0.5666666666666664 0.5486772486772485 0.5005291005291006 0.4074074074074072\n",
      "6 0.7052910052910059 0.46402116402116356 0.18306878306878321 0.22751322751322753\n",
      "173 /data/images/00012505_007.png /data/yolo_dataset/train/images/00012505_007.png /data/yolo_dataset/train/labels/00012505_007.txt\n",
      "2 0.3650793650793652 0.42486772486772506 0.23280423280423243 0.5195767195767197\n",
      "3 0.4238095238095234 0.5111111111111108 0.18306878306878321 0.23068783068783105\n",
      "120 /data/images/00027697_001.png /data/yolo_dataset/train/images/00027697_001.png /data/yolo_dataset/train/labels/00027697_001.txt\n",
      "0 0.787830687830688 0.403703703703704 0.18941798941798926 0.05608465608465606\n",
      "4 0.30634920634920654 0.5809523809523803 0.3037037037037041 0.20529100529100489\n",
      "148 /data/images/00025521_003.png /data/yolo_dataset/train/images/00025521_003.png /data/yolo_dataset/train/labels/00025521_003.txt\n",
      "2 0.12328042328042305 0.6349206349206348 0.10476190476190429 0.2539682539682539\n",
      "3 0.6947089947089952 0.6068783068783071 0.23597883597883593 0.14074074074074122\n",
      "119 /data/images/00005089_014.png /data/yolo_dataset/train/images/00005089_014.png /data/yolo_dataset/train/labels/00005089_014.txt\n",
      "0 0.24338624338624365 0.5005291005291007 0.13544973544973535 0.06984126984126983\n",
      "2 0.7412698412698413 0.4740740740740742 0.22328042328042286 0.582010582010582\n",
      "81 /data/images/00010815_006.png /data/yolo_dataset/train/images/00010815_006.png /data/yolo_dataset/train/labels/00010815_006.txt\n",
      "4 0.37555555555555514 0.3608703782823349 0.143333333333333 0.25\n",
      "0 0.37927778455946193 0.35407407972547755 0.15 0.23888888888888868\n",
      "192 /data/images/00018253_017.png /data/yolo_dataset/train/images/00018253_017.png /data/yolo_dataset/train/labels/00018253_017.txt\n",
      "0 0.6153439153439151 0.6169312169312168 0.15978835978835937 0.20105820105820116\n",
      "2 0.2042328042328037 0.5169312169312172 0.14391534391534375 0.5195767195767197\n",
      "70 /data/images/00020482_032.png /data/yolo_dataset/train/images/00020482_032.png /data/yolo_dataset/train/labels/00020482_032.txt\n",
      "2 0.5583333333333336 0.5425370449490015 0.27555555555555566 0.25555555555555565\n",
      "3 0.5699999999999995 0.5375370449490015 0.223333333333333 0.25444444444444436\n",
      "0 0.5737222290039067 0.5212963019476997 0.20555555555555566 0.353333333333333\n",
      "193 /data/images/00027357_014.png /data/yolo_dataset/train/images/00027357_014.png /data/yolo_dataset/train/labels/00027357_014.txt\n",
      "2 0.18941798941798954 0.41798941798941847 0.25608465608465625 0.6306878306878311\n",
      "3 0.7037037037037036 0.5423280423280424 0.133333333333333 0.1915343915343916\n",
      "121 /data/images/00020124_003.png /data/yolo_dataset/train/images/00020124_003.png /data/yolo_dataset/train/labels/00020124_003.txt\n",
      "4 0.4049999999999995 0.344203711615669 0.10444444444444434 0.13222222222222266\n",
      "0 0.29038889567057324 0.6174074130588105 0.23888888888888868 0.10111111111111133\n",
      "196 /data/images/00029808_003.png /data/yolo_dataset/train/images/00029808_003.png /data/yolo_dataset/train/labels/00029808_003.txt\n",
      "1 0.5323093220338985 0.5935204877691753 0.4364406779661016 0.3855932203389834\n",
      "6 0.6922222222222227 0.4792037116156685 0.19222222222222266 0.2955555555555557\n",
      "168 /data/images/00028208_005.png /data/yolo_dataset/train/images/00028208_005.png /data/yolo_dataset/train/labels/00028208_005.txt\n",
      "3 0.606666666666667 0.48864815606011325 0.6811111111111113 0.4011111111111113\n",
      "6 0.606666666666666 0.49475926717122365 0.6677777777777774 0.36888888888888866\n",
      "157 /data/images/00018387_030.png /data/yolo_dataset/train/images/00018387_030.png /data/yolo_dataset/train/labels/00018387_030.txt\n",
      "1 0.6218220338983047 0.49394421658273485 0.4841101694915254 0.2881355932203389\n",
      "2 0.5305555555555557 0.5097592671712241 0.7511111111111113 0.15666666666666698\n",
      "50 /data/images/00011269_019.png /data/yolo_dataset/train/images/00011269_019.png /data/yolo_dataset/train/labels/00011269_019.txt\n",
      "2 0.8227513227513228 0.5010582010582012 0.21269841269841308 0.18518518518518554\n",
      "4 0.6227513227513233 0.33015873015873 0.12804232804232812 0.13968253968254005\n",
      "138 /data/images/00017138_037.png /data/yolo_dataset/train/images/00017138_037.png /data/yolo_dataset/train/labels/00017138_037.txt\n",
      "2 0.2084656084656084 0.5148148148148144 0.1862433862433867 0.4708994708994707\n",
      "3 0.2973544973544971 0.6296296296296294 0.21587301587301563 0.4253968253968252\n",
      "114 /data/images/00015090_006.png /data/yolo_dataset/train/images/00015090_006.png /data/yolo_dataset/train/labels/00015090_006.txt\n",
      "2 0.7200000000000001 0.6447592671712241 0.19222222222222266 0.173333333333333\n",
      "6 0.6972222222222226 0.6053148227267798 0.24 0.196666666666667\n",
      "163 /data/images/00028383_002.png /data/yolo_dataset/train/images/00028383_002.png /data/yolo_dataset/train/labels/00028383_002.txt\n",
      "2 0.8038888888888893 0.781425933837891 0.08444444444444443 0.055555555555555566\n",
      "3 0.2855555555555557 0.42420371161566894 0.25 0.5211111111111113\n",
      "95 /data/images/00022369_013.png /data/yolo_dataset/train/images/00022369_013.png /data/yolo_dataset/train/labels/00022369_013.txt\n",
      "2 0.24888888888888866 0.4808703782823345 0.17 0.18333333333333302\n",
      "3 0.49055555555555563 0.4719814893934458 0.5711111111111113 0.18333333333333302\n",
      "93 /data/images/00017243_010.png /data/yolo_dataset/train/images/00017243_010.png /data/yolo_dataset/train/labels/00017243_010.txt\n",
      "5 0.1185185185185185 0.6291005291005288 0.08677248677248682 0.08148148148148145\n",
      "7 0.08201058201058223 0.5603174603174604 0.12169312169312207 0.551322751322751\n",
      "----------------------------------------------------------------------------------------\n",
      "0 /data/images/00018427_004.png /data/yolo_dataset/val/images/00018427_004.png /data/yolo_dataset/val/labels/00018427_004.txt\n",
      "0 0.1788359788359789 0.6523809523809522 0.17354497354497364 0.07089947089947089\n",
      "2 0.842328042328042 0.6105820105820103 0.1798941798941797 0.5354497354497354\n",
      "4 0.5719576719576719 0.36984126984127 0.10476190476190429 0.09841269841269824\n",
      "144 /data/images/00020274_007.png /data/yolo_dataset/val/images/00020274_007.png /data/yolo_dataset/val/labels/00020274_007.txt\n",
      "2 0.8033333333333332 0.5297592671712241 0.06777777777777783 0.143333333333333\n",
      "4 0.3411111111111107 0.42809260050455716 0.09666666666666669 0.10666666666666699\n",
      "137 /data/images/00015069_001.png /data/yolo_dataset/val/images/00015069_001.png /data/yolo_dataset/val/labels/00015069_001.txt\n",
      "3 0.5022222222222227 0.4419814893934463 0.67 0.5188888888888886\n",
      "6 0.5144444444444448 0.47087037828233547 0.6344444444444444 0.496666666666667\n",
      "165 /data/images/00019018_007.png /data/yolo_dataset/val/images/00019018_007.png /data/yolo_dataset/val/labels/00019018_007.txt\n",
      "1 0.5741525423728813 0.6396009962437514 0.43326271186440724 0.2616525423728818\n",
      "3 0.48000000000000054 0.5192037116156685 0.596666666666667 0.45555555555555566\n",
      "89 /data/images/00021703_001.png /data/yolo_dataset/val/images/00021703_001.png /data/yolo_dataset/val/labels/00021703_001.txt\n",
      "2 0.6522222222222221 0.5753148227267793 0.203333333333333 0.15222222222222265\n",
      "3 0.18777777777777782 0.6708703782823355 0.15444444444444433 0.054444444444444434\n",
      "0 0.4342777845594619 0.5929629686143663 0.6022222222222227 0.20777777777777734\n",
      "191 /data/images/00016417_008.png /data/yolo_dataset/val/images/00016417_008.png /data/yolo_dataset/val/labels/00016417_008.txt\n",
      "2 0.8560846560846562 0.5502645502645502 0.17777777777777734 0.6052910052910049\n",
      "3 0.3169312169312173 0.739153439153439 0.24867724867724902 0.17248677248677247\n",
      "122 /data/images/00009437_008.png /data/yolo_dataset/val/images/00009437_008.png /data/yolo_dataset/val/labels/00009437_008.txt\n",
      "0 0.8142857142857138 0.62010582010582 0.15978835978835937 0.07619047619047617\n",
      "2 0.8174603174603173 0.702645502645503 0.18306878306878321 0.2708994708994707\n",
      "74 /data/images/00025529_018.png /data/yolo_dataset/val/images/00025529_018.png /data/yolo_dataset/val/labels/00025529_018.txt\n",
      "2 0.7978835978835978 0.4587301587301587 0.1798941798941797 0.5894179894179893\n",
      "4 0.7407407407407403 0.44285714285714256 0.10793650793650782 0.12592592592592577\n",
      "141 /data/images/00002106_000.png /data/yolo_dataset/val/images/00002106_000.png /data/yolo_dataset/val/labels/00002106_000.txt\n",
      "4 0.34277777777777746 0.3803148227267792 0.04888888888888887 0.051111111111111135\n",
      "7 0.6861111111111108 0.49364815606011325 0.12666666666666698 0.15111111111111133\n",
      "177 /data/images/00010575_002.png /data/yolo_dataset/val/images/00010575_002.png /data/yolo_dataset/val/labels/00010575_002.txt\n",
      "0 0.3417989417989419 0.6677248677248676 0.2285714285714287 0.1544973544973545\n",
      "2 0.8005291005291001 0.6629629629629633 0.242328042328042 0.17037037037037012\n",
      "68 /data/images/00029861_013.png /data/yolo_dataset/val/images/00029861_013.png /data/yolo_dataset/val/labels/00029861_013.txt\n",
      "3 0.48666666666666647 0.4264259338378906 0.5944444444444443 0.49\n",
      "6 0.49222222222222267 0.415870378282335 0.59 0.5177777777777773\n",
      "160 /data/images/00015440_000.png /data/yolo_dataset/val/images/00015440_000.png /data/yolo_dataset/val/labels/00015440_000.txt\n",
      "0 0.6957671957671963 0.33174603174603157 0.14920634920634962 0.0666666666666667\n",
      "4 0.3216931216931216 0.5380952380952377 0.3005291005291006 0.5026455026455029\n",
      "147 /data/images/00017500_002.png /data/yolo_dataset/val/images/00017500_002.png /data/yolo_dataset/val/labels/00017500_002.txt\n",
      "0 0.7989417989417993 0.6301587301587301 0.1037037037037041 0.06031746031746035\n",
      "2 0.20582010582010596 0.618518518518519 0.19365079365079393 0.2656084656084658\n",
      "72 /data/images/00018393_000.png /data/yolo_dataset/val/images/00018393_000.png /data/yolo_dataset/val/labels/00018393_000.txt\n",
      "3 0.676666666666667 0.5547592671712241 0.17222222222222267 0.193333333333333\n",
      "6 0.6777777777777778 0.5542037116156684 0.15666666666666698 0.196666666666667\n",
      "158 /data/images/00027479_013.png /data/yolo_dataset/val/images/00027479_013.png /data/yolo_dataset/val/labels/00027479_013.txt\n",
      "2 0.8455555555555556 0.5858703782823352 0.18111111111111133 0.0666666666666667\n",
      "3 0.5677777777777774 0.34420371161566893 0.6677777777777774 0.4811111111111113\n",
      "88 /data/images/00011857_001.png /data/yolo_dataset/val/images/00011857_001.png /data/yolo_dataset/val/labels/00011857_001.txt\n",
      "0 0.8005291005291006 0.5650793650793648 0.20423280423280468 0.08042328042328047\n",
      "2 0.8100529100529097 0.5814814814814815 0.26137566137566115 0.16190476190476172\n",
      "69 /data/images/00021009_001.png /data/yolo_dataset/val/images/00021009_001.png /data/yolo_dataset/val/labels/00021009_001.txt\n",
      "1 0.5354872881355932 0.507150423728813 0.4491525423728818 0.30296610169491506\n",
      "3 0.4583333333333335 0.33475926717122395 0.6155555555555556 0.54\n",
      "111 /data/images/00013993_077.png /data/yolo_dataset/val/images/00013993_077.png /data/yolo_dataset/val/labels/00013993_077.txt\n",
      "2 0.26222222222222213 0.5069814893934463 0.196666666666667 0.21777777777777735\n",
      "6 0.483333333333333 0.5853148227267798 0.5588888888888887 0.383333333333333\n",
      "154 /data/images/00021201_010.png /data/yolo_dataset/val/images/00021201_010.png /data/yolo_dataset/val/labels/00021201_010.txt\n",
      "3 0.773333333333333 0.3553148227267798 0.21 0.423333333333333\n",
      "4 0.7744444444444444 0.3419814893934463 0.15222222222222265 0.31\n"
     ]
    }
   ],
   "execution_count": 84
  }
 ],
 "metadata": {
  "kernelspec": {
   "display_name": "Python 3",
   "language": "python",
   "name": "python3"
  },
  "language_info": {
   "codemirror_mode": {
    "name": "ipython",
    "version": 2
   },
   "file_extension": ".py",
   "mimetype": "text/x-python",
   "name": "python",
   "nbconvert_exporter": "python",
   "pygments_lexer": "ipython2",
   "version": "2.7.6"
  }
 },
 "nbformat": 4,
 "nbformat_minor": 5
}
